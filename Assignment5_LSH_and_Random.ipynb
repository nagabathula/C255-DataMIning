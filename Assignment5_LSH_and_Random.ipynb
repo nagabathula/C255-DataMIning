{
  "nbformat": 4,
  "nbformat_minor": 0,
  "metadata": {
    "colab": {
      "provenance": [],
      "include_colab_link": true
    },
    "kernelspec": {
      "name": "python3",
      "display_name": "Python 3"
    },
    "language_info": {
      "name": "python"
    }
  },
  "cells": [
    {
      "cell_type": "markdown",
      "metadata": {
        "id": "view-in-github",
        "colab_type": "text"
      },
      "source": [
        "<a href=\"https://colab.research.google.com/github/nagabathula/C255-DataMIning/blob/main/Assignment5_LSH_and_Random.ipynb\" target=\"_parent\"><img src=\"https://colab.research.google.com/assets/colab-badge.svg\" alt=\"Open In Colab\"/></a>"
      ]
    },
    {
      "cell_type": "markdown",
      "source": [
        "### LSH and Random\n",
        "#### LSH Data\n",
        "\n",
        "https://www.kaggle.com/code/paulrohan2020/location-sensitive-hashing-for-cosine-similarity\n",
        "\n",
        "https://www.kaggle.com/datasets/patrickgomes/machine-learning-papers-semantic-scholar\n",
        "###Random Projections Data\n",
        "https://www.kaggle.com/datasets/sihuihe/lbp-random-projections"
      ],
      "metadata": {
        "id": "nTVnN0aixb4m"
      }
    },
    {
      "cell_type": "code",
      "source": [
        "!pip install datasketch"
      ],
      "metadata": {
        "colab": {
          "base_uri": "https://localhost:8080/"
        },
        "id": "-WLeTHcg0aY3",
        "outputId": "5ae247ab-2db1-4060-ef99-aee475e900c0"
      },
      "execution_count": null,
      "outputs": [
        {
          "output_type": "stream",
          "name": "stdout",
          "text": [
            "Looking in indexes: https://pypi.org/simple, https://us-python.pkg.dev/colab-wheels/public/simple/\n",
            "Requirement already satisfied: datasketch in /usr/local/lib/python3.7/dist-packages (1.5.8)\n",
            "Requirement already satisfied: numpy>=1.11 in /usr/local/lib/python3.7/dist-packages (from datasketch) (1.21.6)\n",
            "Requirement already satisfied: scipy>=1.0.0 in /usr/local/lib/python3.7/dist-packages (from datasketch) (1.7.3)\n"
          ]
        }
      ]
    },
    {
      "cell_type": "code",
      "execution_count": null,
      "metadata": {
        "id": "pljhPEBGxHIc"
      },
      "outputs": [],
      "source": [
        "# Imports\n",
        "import pandas as pd\n",
        "import numpy as np\n",
        "\n",
        "import re\n",
        "from datasketch import MinHash, MinHashLSHForest\n",
        "from sklearn.metrics.pairwise import cosine_similarity\n",
        "\n",
        "from google.colab import drive"
      ]
    },
    {
      "cell_type": "code",
      "source": [
        "drive.mount('/content/drive')"
      ],
      "metadata": {
        "colab": {
          "base_uri": "https://localhost:8080/"
        },
        "id": "T4GMsscNxJex",
        "outputId": "f5779496-d392-4fe7-eb5f-1a39320cc2c5"
      },
      "execution_count": null,
      "outputs": [
        {
          "output_type": "stream",
          "name": "stdout",
          "text": [
            "Mounted at /content/drive\n"
          ]
        }
      ]
    },
    {
      "cell_type": "code",
      "source": [
        "PERMUTATIONS = 64\n",
        "N_RECOMMEND = 5\n",
        "TEST_IDX = 67"
      ],
      "metadata": {
        "id": "ZTk2KW8m0Hfv"
      },
      "execution_count": null,
      "outputs": []
    },
    {
      "cell_type": "code",
      "source": [
        "# Read data\n",
        "df = pd.read_csv('/content/drive/MyDrive/Colab Notebooks/ML_papers.csv')"
      ],
      "metadata": {
        "id": "SDkrtwzLxWoA"
      },
      "execution_count": null,
      "outputs": []
    },
    {
      "cell_type": "code",
      "source": [
        "df.head()"
      ],
      "metadata": {
        "colab": {
          "base_uri": "https://localhost:8080/",
          "height": 354
        },
        "id": "BGkaF-Q5x-PE",
        "outputId": "de788c14-82d3-4821-b4a3-721dff60383b"
      },
      "execution_count": null,
      "outputs": [
        {
          "output_type": "execute_result",
          "data": {
            "text/plain": [
              "   Unnamed: 0                                      Name + autors  \\\n",
              "0           0  TensorFlow%3A A system for large scale machine...   \n",
              "1           1  TensorFlow%3A Large Scale Machine Learning on ...   \n",
              "2           2  Data Mining Practical Machine Learning Tools a...   \n",
              "3           3  Machine learning a probabilistic perspective M...   \n",
              "4           4  Scikit learn%3A Machine Learning in Python Ped...   \n",
              "\n",
              "             Fields             Date  \\\n",
              "0  Computer Science      27 May 2016   \n",
              "1  Computer Science    14 March 2016   \n",
              "2  Computer Science             2014   \n",
              "3  Computer Science   24 August 2012   \n",
              "4  Computer Science  1 February 2011   \n",
              "\n",
              "                                            Abstract Citations  \\\n",
              "0  TensorFlow is a machine learning system that o...      8989   \n",
              "1  This paper describes the TensorFlow interface ...      8114   \n",
              "2                                                         9893   \n",
              "3  A comprehensive and self-contained introductio...      5925   \n",
              "4  Scikit-learn is a Python module integrating a ...     30040   \n",
              "\n",
              "                                  PDF link  \n",
              "0     https://arxiv.org/pdf/1605.08695.pdf  \n",
              "1     https://arxiv.org/pdf/1603.04467.pdf  \n",
              "2  https://doi.org/10.1016/c2009-0-19715-5  \n",
              "3                                      NaN  \n",
              "4      https://arxiv.org/pdf/1201.0490.pdf  "
            ],
            "text/html": [
              "\n",
              "  <div id=\"df-09b13897-79b1-4902-bb4d-e15bfd3be331\">\n",
              "    <div class=\"colab-df-container\">\n",
              "      <div>\n",
              "<style scoped>\n",
              "    .dataframe tbody tr th:only-of-type {\n",
              "        vertical-align: middle;\n",
              "    }\n",
              "\n",
              "    .dataframe tbody tr th {\n",
              "        vertical-align: top;\n",
              "    }\n",
              "\n",
              "    .dataframe thead th {\n",
              "        text-align: right;\n",
              "    }\n",
              "</style>\n",
              "<table border=\"1\" class=\"dataframe\">\n",
              "  <thead>\n",
              "    <tr style=\"text-align: right;\">\n",
              "      <th></th>\n",
              "      <th>Unnamed: 0</th>\n",
              "      <th>Name + autors</th>\n",
              "      <th>Fields</th>\n",
              "      <th>Date</th>\n",
              "      <th>Abstract</th>\n",
              "      <th>Citations</th>\n",
              "      <th>PDF link</th>\n",
              "    </tr>\n",
              "  </thead>\n",
              "  <tbody>\n",
              "    <tr>\n",
              "      <th>0</th>\n",
              "      <td>0</td>\n",
              "      <td>TensorFlow%3A A system for large scale machine...</td>\n",
              "      <td>Computer Science</td>\n",
              "      <td>27 May 2016</td>\n",
              "      <td>TensorFlow is a machine learning system that o...</td>\n",
              "      <td>8989</td>\n",
              "      <td>https://arxiv.org/pdf/1605.08695.pdf</td>\n",
              "    </tr>\n",
              "    <tr>\n",
              "      <th>1</th>\n",
              "      <td>1</td>\n",
              "      <td>TensorFlow%3A Large Scale Machine Learning on ...</td>\n",
              "      <td>Computer Science</td>\n",
              "      <td>14 March 2016</td>\n",
              "      <td>This paper describes the TensorFlow interface ...</td>\n",
              "      <td>8114</td>\n",
              "      <td>https://arxiv.org/pdf/1603.04467.pdf</td>\n",
              "    </tr>\n",
              "    <tr>\n",
              "      <th>2</th>\n",
              "      <td>2</td>\n",
              "      <td>Data Mining Practical Machine Learning Tools a...</td>\n",
              "      <td>Computer Science</td>\n",
              "      <td>2014</td>\n",
              "      <td></td>\n",
              "      <td>9893</td>\n",
              "      <td>https://doi.org/10.1016/c2009-0-19715-5</td>\n",
              "    </tr>\n",
              "    <tr>\n",
              "      <th>3</th>\n",
              "      <td>3</td>\n",
              "      <td>Machine learning a probabilistic perspective M...</td>\n",
              "      <td>Computer Science</td>\n",
              "      <td>24 August 2012</td>\n",
              "      <td>A comprehensive and self-contained introductio...</td>\n",
              "      <td>5925</td>\n",
              "      <td>NaN</td>\n",
              "    </tr>\n",
              "    <tr>\n",
              "      <th>4</th>\n",
              "      <td>4</td>\n",
              "      <td>Scikit learn%3A Machine Learning in Python Ped...</td>\n",
              "      <td>Computer Science</td>\n",
              "      <td>1 February 2011</td>\n",
              "      <td>Scikit-learn is a Python module integrating a ...</td>\n",
              "      <td>30040</td>\n",
              "      <td>https://arxiv.org/pdf/1201.0490.pdf</td>\n",
              "    </tr>\n",
              "  </tbody>\n",
              "</table>\n",
              "</div>\n",
              "      <button class=\"colab-df-convert\" onclick=\"convertToInteractive('df-09b13897-79b1-4902-bb4d-e15bfd3be331')\"\n",
              "              title=\"Convert this dataframe to an interactive table.\"\n",
              "              style=\"display:none;\">\n",
              "        \n",
              "  <svg xmlns=\"http://www.w3.org/2000/svg\" height=\"24px\"viewBox=\"0 0 24 24\"\n",
              "       width=\"24px\">\n",
              "    <path d=\"M0 0h24v24H0V0z\" fill=\"none\"/>\n",
              "    <path d=\"M18.56 5.44l.94 2.06.94-2.06 2.06-.94-2.06-.94-.94-2.06-.94 2.06-2.06.94zm-11 1L8.5 8.5l.94-2.06 2.06-.94-2.06-.94L8.5 2.5l-.94 2.06-2.06.94zm10 10l.94 2.06.94-2.06 2.06-.94-2.06-.94-.94-2.06-.94 2.06-2.06.94z\"/><path d=\"M17.41 7.96l-1.37-1.37c-.4-.4-.92-.59-1.43-.59-.52 0-1.04.2-1.43.59L10.3 9.45l-7.72 7.72c-.78.78-.78 2.05 0 2.83L4 21.41c.39.39.9.59 1.41.59.51 0 1.02-.2 1.41-.59l7.78-7.78 2.81-2.81c.8-.78.8-2.07 0-2.86zM5.41 20L4 18.59l7.72-7.72 1.47 1.35L5.41 20z\"/>\n",
              "  </svg>\n",
              "      </button>\n",
              "      \n",
              "  <style>\n",
              "    .colab-df-container {\n",
              "      display:flex;\n",
              "      flex-wrap:wrap;\n",
              "      gap: 12px;\n",
              "    }\n",
              "\n",
              "    .colab-df-convert {\n",
              "      background-color: #E8F0FE;\n",
              "      border: none;\n",
              "      border-radius: 50%;\n",
              "      cursor: pointer;\n",
              "      display: none;\n",
              "      fill: #1967D2;\n",
              "      height: 32px;\n",
              "      padding: 0 0 0 0;\n",
              "      width: 32px;\n",
              "    }\n",
              "\n",
              "    .colab-df-convert:hover {\n",
              "      background-color: #E2EBFA;\n",
              "      box-shadow: 0px 1px 2px rgba(60, 64, 67, 0.3), 0px 1px 3px 1px rgba(60, 64, 67, 0.15);\n",
              "      fill: #174EA6;\n",
              "    }\n",
              "\n",
              "    [theme=dark] .colab-df-convert {\n",
              "      background-color: #3B4455;\n",
              "      fill: #D2E3FC;\n",
              "    }\n",
              "\n",
              "    [theme=dark] .colab-df-convert:hover {\n",
              "      background-color: #434B5C;\n",
              "      box-shadow: 0px 1px 3px 1px rgba(0, 0, 0, 0.15);\n",
              "      filter: drop-shadow(0px 1px 2px rgba(0, 0, 0, 0.3));\n",
              "      fill: #FFFFFF;\n",
              "    }\n",
              "  </style>\n",
              "\n",
              "      <script>\n",
              "        const buttonEl =\n",
              "          document.querySelector('#df-09b13897-79b1-4902-bb4d-e15bfd3be331 button.colab-df-convert');\n",
              "        buttonEl.style.display =\n",
              "          google.colab.kernel.accessAllowed ? 'block' : 'none';\n",
              "\n",
              "        async function convertToInteractive(key) {\n",
              "          const element = document.querySelector('#df-09b13897-79b1-4902-bb4d-e15bfd3be331');\n",
              "          const dataTable =\n",
              "            await google.colab.kernel.invokeFunction('convertToInteractive',\n",
              "                                                     [key], {});\n",
              "          if (!dataTable) return;\n",
              "\n",
              "          const docLinkHtml = 'Like what you see? Visit the ' +\n",
              "            '<a target=\"_blank\" href=https://colab.research.google.com/notebooks/data_table.ipynb>data table notebook</a>'\n",
              "            + ' to learn more about interactive tables.';\n",
              "          element.innerHTML = '';\n",
              "          dataTable['output_type'] = 'display_data';\n",
              "          await google.colab.output.renderOutput(dataTable, element);\n",
              "          const docLink = document.createElement('div');\n",
              "          docLink.innerHTML = docLinkHtml;\n",
              "          element.appendChild(docLink);\n",
              "        }\n",
              "      </script>\n",
              "    </div>\n",
              "  </div>\n",
              "  "
            ]
          },
          "metadata": {},
          "execution_count": 6
        }
      ]
    },
    {
      "cell_type": "code",
      "source": [
        "df.shape"
      ],
      "metadata": {
        "colab": {
          "base_uri": "https://localhost:8080/"
        },
        "id": "VV8t2bQIzvXR",
        "outputId": "99abf19f-b5ec-4ae9-ea57-7b6f70651d2b"
      },
      "execution_count": null,
      "outputs": [
        {
          "output_type": "execute_result",
          "data": {
            "text/plain": [
              "(946, 7)"
            ]
          },
          "metadata": {},
          "execution_count": 7
        }
      ]
    },
    {
      "cell_type": "code",
      "source": [
        "df.isna().sum()"
      ],
      "metadata": {
        "colab": {
          "base_uri": "https://localhost:8080/"
        },
        "id": "pF0EpmhZx_G9",
        "outputId": "71e0d159-8c10-4e86-d90e-85039062b2b2"
      },
      "execution_count": null,
      "outputs": [
        {
          "output_type": "execute_result",
          "data": {
            "text/plain": [
              "Unnamed: 0         0\n",
              "Name + autors      0\n",
              "Fields            16\n",
              "Date               2\n",
              "Abstract           0\n",
              "Citations          8\n",
              "PDF link         112\n",
              "dtype: int64"
            ]
          },
          "metadata": {},
          "execution_count": 8
        }
      ]
    },
    {
      "cell_type": "code",
      "source": [
        "# Select only required columns\n",
        "df = df[['Name + autors', 'Fields', 'Abstract']]\n",
        "\n",
        "# Rename columns\n",
        "df = df.rename(columns={'Name + autors':'paper_name_authors', 'Fields':'fields', 'Abstract':'paper_abstract'})"
      ],
      "metadata": {
        "id": "DX2ecJ5pygQ1"
      },
      "execution_count": null,
      "outputs": []
    },
    {
      "cell_type": "code",
      "source": [
        "# Drop rows with nan or empty cells\n",
        "df.replace('   ', np.nan, inplace=True)\n",
        "df.dropna(inplace=True)\n",
        "\n",
        "df.reset_index(inplace=True, drop=True)"
      ],
      "metadata": {
        "id": "Dm9BfmgmzBNQ"
      },
      "execution_count": null,
      "outputs": []
    },
    {
      "cell_type": "code",
      "source": [
        "df['text'] = df['fields'] + ' ' + df['paper_abstract']"
      ],
      "metadata": {
        "id": "NSJm-JES3K6-"
      },
      "execution_count": null,
      "outputs": []
    },
    {
      "cell_type": "code",
      "source": [
        "df.head()"
      ],
      "metadata": {
        "colab": {
          "base_uri": "https://localhost:8080/",
          "height": 250
        },
        "id": "O5h71JdTzAXy",
        "outputId": "efcd19df-314e-4c12-efb4-54e37fa6ebb2"
      },
      "execution_count": null,
      "outputs": [
        {
          "output_type": "execute_result",
          "data": {
            "text/plain": [
              "                                  paper_name_authors  \\\n",
              "0  TensorFlow%3A A system for large scale machine...   \n",
              "1  TensorFlow%3A Large Scale Machine Learning on ...   \n",
              "2  Machine learning a probabilistic perspective M...   \n",
              "3  Scikit learn%3A Machine Learning in Python Ped...   \n",
              "4  Fashion MNIST%3A a Novel Image Dataset for Mac...   \n",
              "\n",
              "                          fields  \\\n",
              "0               Computer Science   \n",
              "1               Computer Science   \n",
              "2               Computer Science   \n",
              "3               Computer Science   \n",
              "4  Computer Science, Mathematics   \n",
              "\n",
              "                                      paper_abstract  \\\n",
              "0  TensorFlow is a machine learning system that o...   \n",
              "1  This paper describes the TensorFlow interface ...   \n",
              "2  A comprehensive and self-contained introductio...   \n",
              "3  Scikit-learn is a Python module integrating a ...   \n",
              "4  We present Fashion-MNIST, a new dataset compri...   \n",
              "\n",
              "                                                text  \n",
              "0  Computer Science TensorFlow is a machine learn...  \n",
              "1  Computer Science This paper describes the Tens...  \n",
              "2  Computer Science A comprehensive and self-cont...  \n",
              "3  Computer Science Scikit-learn is a Python modu...  \n",
              "4  Computer Science, Mathematics We present Fashi...  "
            ],
            "text/html": [
              "\n",
              "  <div id=\"df-91d24940-80ec-47f6-bbd5-c27d4770ab66\">\n",
              "    <div class=\"colab-df-container\">\n",
              "      <div>\n",
              "<style scoped>\n",
              "    .dataframe tbody tr th:only-of-type {\n",
              "        vertical-align: middle;\n",
              "    }\n",
              "\n",
              "    .dataframe tbody tr th {\n",
              "        vertical-align: top;\n",
              "    }\n",
              "\n",
              "    .dataframe thead th {\n",
              "        text-align: right;\n",
              "    }\n",
              "</style>\n",
              "<table border=\"1\" class=\"dataframe\">\n",
              "  <thead>\n",
              "    <tr style=\"text-align: right;\">\n",
              "      <th></th>\n",
              "      <th>paper_name_authors</th>\n",
              "      <th>fields</th>\n",
              "      <th>paper_abstract</th>\n",
              "      <th>text</th>\n",
              "    </tr>\n",
              "  </thead>\n",
              "  <tbody>\n",
              "    <tr>\n",
              "      <th>0</th>\n",
              "      <td>TensorFlow%3A A system for large scale machine...</td>\n",
              "      <td>Computer Science</td>\n",
              "      <td>TensorFlow is a machine learning system that o...</td>\n",
              "      <td>Computer Science TensorFlow is a machine learn...</td>\n",
              "    </tr>\n",
              "    <tr>\n",
              "      <th>1</th>\n",
              "      <td>TensorFlow%3A Large Scale Machine Learning on ...</td>\n",
              "      <td>Computer Science</td>\n",
              "      <td>This paper describes the TensorFlow interface ...</td>\n",
              "      <td>Computer Science This paper describes the Tens...</td>\n",
              "    </tr>\n",
              "    <tr>\n",
              "      <th>2</th>\n",
              "      <td>Machine learning a probabilistic perspective M...</td>\n",
              "      <td>Computer Science</td>\n",
              "      <td>A comprehensive and self-contained introductio...</td>\n",
              "      <td>Computer Science A comprehensive and self-cont...</td>\n",
              "    </tr>\n",
              "    <tr>\n",
              "      <th>3</th>\n",
              "      <td>Scikit learn%3A Machine Learning in Python Ped...</td>\n",
              "      <td>Computer Science</td>\n",
              "      <td>Scikit-learn is a Python module integrating a ...</td>\n",
              "      <td>Computer Science Scikit-learn is a Python modu...</td>\n",
              "    </tr>\n",
              "    <tr>\n",
              "      <th>4</th>\n",
              "      <td>Fashion MNIST%3A a Novel Image Dataset for Mac...</td>\n",
              "      <td>Computer Science, Mathematics</td>\n",
              "      <td>We present Fashion-MNIST, a new dataset compri...</td>\n",
              "      <td>Computer Science, Mathematics We present Fashi...</td>\n",
              "    </tr>\n",
              "  </tbody>\n",
              "</table>\n",
              "</div>\n",
              "      <button class=\"colab-df-convert\" onclick=\"convertToInteractive('df-91d24940-80ec-47f6-bbd5-c27d4770ab66')\"\n",
              "              title=\"Convert this dataframe to an interactive table.\"\n",
              "              style=\"display:none;\">\n",
              "        \n",
              "  <svg xmlns=\"http://www.w3.org/2000/svg\" height=\"24px\"viewBox=\"0 0 24 24\"\n",
              "       width=\"24px\">\n",
              "    <path d=\"M0 0h24v24H0V0z\" fill=\"none\"/>\n",
              "    <path d=\"M18.56 5.44l.94 2.06.94-2.06 2.06-.94-2.06-.94-.94-2.06-.94 2.06-2.06.94zm-11 1L8.5 8.5l.94-2.06 2.06-.94-2.06-.94L8.5 2.5l-.94 2.06-2.06.94zm10 10l.94 2.06.94-2.06 2.06-.94-2.06-.94-.94-2.06-.94 2.06-2.06.94z\"/><path d=\"M17.41 7.96l-1.37-1.37c-.4-.4-.92-.59-1.43-.59-.52 0-1.04.2-1.43.59L10.3 9.45l-7.72 7.72c-.78.78-.78 2.05 0 2.83L4 21.41c.39.39.9.59 1.41.59.51 0 1.02-.2 1.41-.59l7.78-7.78 2.81-2.81c.8-.78.8-2.07 0-2.86zM5.41 20L4 18.59l7.72-7.72 1.47 1.35L5.41 20z\"/>\n",
              "  </svg>\n",
              "      </button>\n",
              "      \n",
              "  <style>\n",
              "    .colab-df-container {\n",
              "      display:flex;\n",
              "      flex-wrap:wrap;\n",
              "      gap: 12px;\n",
              "    }\n",
              "\n",
              "    .colab-df-convert {\n",
              "      background-color: #E8F0FE;\n",
              "      border: none;\n",
              "      border-radius: 50%;\n",
              "      cursor: pointer;\n",
              "      display: none;\n",
              "      fill: #1967D2;\n",
              "      height: 32px;\n",
              "      padding: 0 0 0 0;\n",
              "      width: 32px;\n",
              "    }\n",
              "\n",
              "    .colab-df-convert:hover {\n",
              "      background-color: #E2EBFA;\n",
              "      box-shadow: 0px 1px 2px rgba(60, 64, 67, 0.3), 0px 1px 3px 1px rgba(60, 64, 67, 0.15);\n",
              "      fill: #174EA6;\n",
              "    }\n",
              "\n",
              "    [theme=dark] .colab-df-convert {\n",
              "      background-color: #3B4455;\n",
              "      fill: #D2E3FC;\n",
              "    }\n",
              "\n",
              "    [theme=dark] .colab-df-convert:hover {\n",
              "      background-color: #434B5C;\n",
              "      box-shadow: 0px 1px 3px 1px rgba(0, 0, 0, 0.15);\n",
              "      filter: drop-shadow(0px 1px 2px rgba(0, 0, 0, 0.3));\n",
              "      fill: #FFFFFF;\n",
              "    }\n",
              "  </style>\n",
              "\n",
              "      <script>\n",
              "        const buttonEl =\n",
              "          document.querySelector('#df-91d24940-80ec-47f6-bbd5-c27d4770ab66 button.colab-df-convert');\n",
              "        buttonEl.style.display =\n",
              "          google.colab.kernel.accessAllowed ? 'block' : 'none';\n",
              "\n",
              "        async function convertToInteractive(key) {\n",
              "          const element = document.querySelector('#df-91d24940-80ec-47f6-bbd5-c27d4770ab66');\n",
              "          const dataTable =\n",
              "            await google.colab.kernel.invokeFunction('convertToInteractive',\n",
              "                                                     [key], {});\n",
              "          if (!dataTable) return;\n",
              "\n",
              "          const docLinkHtml = 'Like what you see? Visit the ' +\n",
              "            '<a target=\"_blank\" href=https://colab.research.google.com/notebooks/data_table.ipynb>data table notebook</a>'\n",
              "            + ' to learn more about interactive tables.';\n",
              "          element.innerHTML = '';\n",
              "          dataTable['output_type'] = 'display_data';\n",
              "          await google.colab.output.renderOutput(dataTable, element);\n",
              "          const docLink = document.createElement('div');\n",
              "          docLink.innerHTML = docLinkHtml;\n",
              "          element.appendChild(docLink);\n",
              "        }\n",
              "      </script>\n",
              "    </div>\n",
              "  </div>\n",
              "  "
            ]
          },
          "metadata": {},
          "execution_count": 12
        }
      ]
    },
    {
      "cell_type": "markdown",
      "source": [
        "### Locality Sensitive Hashing"
      ],
      "metadata": {
        "id": "DRdgCCqR94P1"
      }
    },
    {
      "cell_type": "code",
      "source": [
        "def getShingles(text):\n",
        "  text = re.sub(r'[^\\w\\s]','',text)\n",
        "  text_lower = text.lower()\n",
        "  tokens = text_lower.split()\n",
        "\n",
        "  return tokens"
      ],
      "metadata": {
        "id": "31YGG0eozl7A"
      },
      "execution_count": null,
      "outputs": []
    },
    {
      "cell_type": "code",
      "source": [
        "def createSignature(text):\n",
        "  minhash = []\n",
        "\n",
        "  for text in df['text']:\n",
        "    # Get tokens which are the shingles (every word is one shingle)\n",
        "    tokens = getShingles(text)\n",
        "\n",
        "    # Create minhash objects which stores signatures\n",
        "    m = MinHash(num_perm=PERMUTATIONS)\n",
        "    for token in tokens:\n",
        "        m.update(token.encode('utf8'))\n",
        "    minhash.append(m)\n",
        "\n",
        "  return minhash"
      ],
      "metadata": {
        "id": "JIbSzRkY0BDw"
      },
      "execution_count": null,
      "outputs": []
    },
    {
      "cell_type": "code",
      "source": [
        "def buildForest(minhash):\n",
        "  minhash_forest = MinHashLSHForest(num_perm=PERMUTATIONS)\n",
        "    \n",
        "  # Build forest of all minhashes\n",
        "  for i,m in enumerate(minhash):\n",
        "    minhash_forest.add(i,m)\n",
        "        \n",
        "  # Create index on forest\n",
        "  minhash_forest.index()\n",
        "      \n",
        "  return minhash_forest"
      ],
      "metadata": {
        "id": "iNuEJJAG7CFS"
      },
      "execution_count": null,
      "outputs": []
    },
    {
      "cell_type": "code",
      "source": [
        "def getSimilarRows(minhash_forest, text):\n",
        "  # Get shingles from input text\n",
        "  tokens = getShingles(text)\n",
        "\n",
        "  # Create minhash of test string\n",
        "  m = MinHash(num_perm=PERMUTATIONS)\n",
        "  for s in tokens:\n",
        "    m.update(s.encode('utf8'))\n",
        "      \n",
        "  # Query minhash forest and get index of similar records\n",
        "  idx = np.array(minhash_forest.query(m, N_RECOMMEND))\n",
        "\n",
        "  return idx"
      ],
      "metadata": {
        "id": "7P-mmerL4W7B"
      },
      "execution_count": null,
      "outputs": []
    },
    {
      "cell_type": "code",
      "source": [
        "# Get similar rows \n",
        "\n",
        "minhash_signatures = createSignature(df['text'])\n",
        "signatures_forest = buildForest(minhash_signatures)\n",
        "\n",
        "test_string = df.iloc[TEST_IDX]['text']\n",
        "similar_papers_idx = getSimilarRows(signatures_forest, test_string)"
      ],
      "metadata": {
        "id": "R9StndKM4wih"
      },
      "execution_count": null,
      "outputs": []
    },
    {
      "cell_type": "code",
      "source": [
        "print('Test paper')\n",
        "print()\n",
        "print(df.iloc[TEST_IDX])"
      ],
      "metadata": {
        "colab": {
          "base_uri": "https://localhost:8080/"
        },
        "id": "HJ_a0imA-_K7",
        "outputId": "4695bfc9-fce8-4b35-a9a9-e18188c00c73"
      },
      "execution_count": null,
      "outputs": [
        {
          "output_type": "stream",
          "name": "stdout",
          "text": [
            "Test paper\n",
            "\n",
            "paper_name_authors    Machine Learning Methods for Histopathological...\n",
            "fields                                       Computer Science, Medicine\n",
            "paper_abstract        We introduce the application of digital pathol...\n",
            "text                  Computer Science, Medicine We introduce the ap...\n",
            "Name: 67, dtype: object\n"
          ]
        }
      ]
    },
    {
      "cell_type": "code",
      "source": [
        "print('Similar papers')\n",
        "df[df.index.isin(similar_papers_idx)]"
      ],
      "metadata": {
        "colab": {
          "base_uri": "https://localhost:8080/",
          "height": 223
        },
        "id": "v72tATUw9X21",
        "outputId": "175d310d-259b-4f20-dc16-922cc9f5ba2c"
      },
      "execution_count": null,
      "outputs": [
        {
          "output_type": "stream",
          "name": "stdout",
          "text": [
            "Similar papers\n"
          ]
        },
        {
          "output_type": "execute_result",
          "data": {
            "text/plain": [
              "                                    paper_name_authors  \\\n",
              "67   Machine Learning Methods for Histopathological...   \n",
              "322  Deep Learning Applications in Medical Image Ke...   \n",
              "453  Support vector machine learning for image retr...   \n",
              "625  On Kernel Target Alignment Cristianini Shawe T...   \n",
              "657  Evaluation of a Tree based Pipeline Optimizati...   \n",
              "\n",
              "                         fields  \\\n",
              "67   Computer Science, Medicine   \n",
              "322            Computer Science   \n",
              "453            Computer Science   \n",
              "625            Computer Science   \n",
              "657            Computer Science   \n",
              "\n",
              "                                        paper_abstract  \\\n",
              "67   We introduce the application of digital pathol...   \n",
              "322  The tremendous success of machine learning alg...   \n",
              "453  A novel method of relevance feedback is presen...   \n",
              "625  We introduce the notion of kernel-alignment, a...   \n",
              "657  We introduce the concept of tree-based pipelin...   \n",
              "\n",
              "                                                  text  \n",
              "67   Computer Science, Medicine We introduce the ap...  \n",
              "322  Computer Science The tremendous success of mac...  \n",
              "453  Computer Science A novel method of relevance f...  \n",
              "625  Computer Science We introduce the notion of ke...  \n",
              "657  Computer Science We introduce the concept of t...  "
            ],
            "text/html": [
              "\n",
              "  <div id=\"df-55ccac18-f9fb-49d8-bb51-1b4bfc72234f\">\n",
              "    <div class=\"colab-df-container\">\n",
              "      <div>\n",
              "<style scoped>\n",
              "    .dataframe tbody tr th:only-of-type {\n",
              "        vertical-align: middle;\n",
              "    }\n",
              "\n",
              "    .dataframe tbody tr th {\n",
              "        vertical-align: top;\n",
              "    }\n",
              "\n",
              "    .dataframe thead th {\n",
              "        text-align: right;\n",
              "    }\n",
              "</style>\n",
              "<table border=\"1\" class=\"dataframe\">\n",
              "  <thead>\n",
              "    <tr style=\"text-align: right;\">\n",
              "      <th></th>\n",
              "      <th>paper_name_authors</th>\n",
              "      <th>fields</th>\n",
              "      <th>paper_abstract</th>\n",
              "      <th>text</th>\n",
              "    </tr>\n",
              "  </thead>\n",
              "  <tbody>\n",
              "    <tr>\n",
              "      <th>67</th>\n",
              "      <td>Machine Learning Methods for Histopathological...</td>\n",
              "      <td>Computer Science, Medicine</td>\n",
              "      <td>We introduce the application of digital pathol...</td>\n",
              "      <td>Computer Science, Medicine We introduce the ap...</td>\n",
              "    </tr>\n",
              "    <tr>\n",
              "      <th>322</th>\n",
              "      <td>Deep Learning Applications in Medical Image Ke...</td>\n",
              "      <td>Computer Science</td>\n",
              "      <td>The tremendous success of machine learning alg...</td>\n",
              "      <td>Computer Science The tremendous success of mac...</td>\n",
              "    </tr>\n",
              "    <tr>\n",
              "      <th>453</th>\n",
              "      <td>Support vector machine learning for image retr...</td>\n",
              "      <td>Computer Science</td>\n",
              "      <td>A novel method of relevance feedback is presen...</td>\n",
              "      <td>Computer Science A novel method of relevance f...</td>\n",
              "    </tr>\n",
              "    <tr>\n",
              "      <th>625</th>\n",
              "      <td>On Kernel Target Alignment Cristianini Shawe T...</td>\n",
              "      <td>Computer Science</td>\n",
              "      <td>We introduce the notion of kernel-alignment, a...</td>\n",
              "      <td>Computer Science We introduce the notion of ke...</td>\n",
              "    </tr>\n",
              "    <tr>\n",
              "      <th>657</th>\n",
              "      <td>Evaluation of a Tree based Pipeline Optimizati...</td>\n",
              "      <td>Computer Science</td>\n",
              "      <td>We introduce the concept of tree-based pipelin...</td>\n",
              "      <td>Computer Science We introduce the concept of t...</td>\n",
              "    </tr>\n",
              "  </tbody>\n",
              "</table>\n",
              "</div>\n",
              "      <button class=\"colab-df-convert\" onclick=\"convertToInteractive('df-55ccac18-f9fb-49d8-bb51-1b4bfc72234f')\"\n",
              "              title=\"Convert this dataframe to an interactive table.\"\n",
              "              style=\"display:none;\">\n",
              "        \n",
              "  <svg xmlns=\"http://www.w3.org/2000/svg\" height=\"24px\"viewBox=\"0 0 24 24\"\n",
              "       width=\"24px\">\n",
              "    <path d=\"M0 0h24v24H0V0z\" fill=\"none\"/>\n",
              "    <path d=\"M18.56 5.44l.94 2.06.94-2.06 2.06-.94-2.06-.94-.94-2.06-.94 2.06-2.06.94zm-11 1L8.5 8.5l.94-2.06 2.06-.94-2.06-.94L8.5 2.5l-.94 2.06-2.06.94zm10 10l.94 2.06.94-2.06 2.06-.94-2.06-.94-.94-2.06-.94 2.06-2.06.94z\"/><path d=\"M17.41 7.96l-1.37-1.37c-.4-.4-.92-.59-1.43-.59-.52 0-1.04.2-1.43.59L10.3 9.45l-7.72 7.72c-.78.78-.78 2.05 0 2.83L4 21.41c.39.39.9.59 1.41.59.51 0 1.02-.2 1.41-.59l7.78-7.78 2.81-2.81c.8-.78.8-2.07 0-2.86zM5.41 20L4 18.59l7.72-7.72 1.47 1.35L5.41 20z\"/>\n",
              "  </svg>\n",
              "      </button>\n",
              "      \n",
              "  <style>\n",
              "    .colab-df-container {\n",
              "      display:flex;\n",
              "      flex-wrap:wrap;\n",
              "      gap: 12px;\n",
              "    }\n",
              "\n",
              "    .colab-df-convert {\n",
              "      background-color: #E8F0FE;\n",
              "      border: none;\n",
              "      border-radius: 50%;\n",
              "      cursor: pointer;\n",
              "      display: none;\n",
              "      fill: #1967D2;\n",
              "      height: 32px;\n",
              "      padding: 0 0 0 0;\n",
              "      width: 32px;\n",
              "    }\n",
              "\n",
              "    .colab-df-convert:hover {\n",
              "      background-color: #E2EBFA;\n",
              "      box-shadow: 0px 1px 2px rgba(60, 64, 67, 0.3), 0px 1px 3px 1px rgba(60, 64, 67, 0.15);\n",
              "      fill: #174EA6;\n",
              "    }\n",
              "\n",
              "    [theme=dark] .colab-df-convert {\n",
              "      background-color: #3B4455;\n",
              "      fill: #D2E3FC;\n",
              "    }\n",
              "\n",
              "    [theme=dark] .colab-df-convert:hover {\n",
              "      background-color: #434B5C;\n",
              "      box-shadow: 0px 1px 3px 1px rgba(0, 0, 0, 0.15);\n",
              "      filter: drop-shadow(0px 1px 2px rgba(0, 0, 0, 0.3));\n",
              "      fill: #FFFFFF;\n",
              "    }\n",
              "  </style>\n",
              "\n",
              "      <script>\n",
              "        const buttonEl =\n",
              "          document.querySelector('#df-55ccac18-f9fb-49d8-bb51-1b4bfc72234f button.colab-df-convert');\n",
              "        buttonEl.style.display =\n",
              "          google.colab.kernel.accessAllowed ? 'block' : 'none';\n",
              "\n",
              "        async function convertToInteractive(key) {\n",
              "          const element = document.querySelector('#df-55ccac18-f9fb-49d8-bb51-1b4bfc72234f');\n",
              "          const dataTable =\n",
              "            await google.colab.kernel.invokeFunction('convertToInteractive',\n",
              "                                                     [key], {});\n",
              "          if (!dataTable) return;\n",
              "\n",
              "          const docLinkHtml = 'Like what you see? Visit the ' +\n",
              "            '<a target=\"_blank\" href=https://colab.research.google.com/notebooks/data_table.ipynb>data table notebook</a>'\n",
              "            + ' to learn more about interactive tables.';\n",
              "          element.innerHTML = '';\n",
              "          dataTable['output_type'] = 'display_data';\n",
              "          await google.colab.output.renderOutput(dataTable, element);\n",
              "          const docLink = document.createElement('div');\n",
              "          docLink.innerHTML = docLinkHtml;\n",
              "          element.appendChild(docLink);\n",
              "        }\n",
              "      </script>\n",
              "    </div>\n",
              "  </div>\n",
              "  "
            ]
          },
          "metadata": {},
          "execution_count": 19
        }
      ]
    },
    {
      "cell_type": "markdown",
      "source": [
        "### Random Projections"
      ],
      "metadata": {
        "id": "0DPXPrKz_7q1"
      }
    },
    {
      "cell_type": "code",
      "source": [
        "# Read dataset\n",
        "proj = pd.read_csv('/content/drive/MyDrive/Colab Notebooks/lbp_trainning.csv')\n",
        "proj.columns = [i for i in range(30)]"
      ],
      "metadata": {
        "id": "s6T6Q14l9eZ5"
      },
      "execution_count": null,
      "outputs": []
    },
    {
      "cell_type": "code",
      "source": [
        "# Split dataset into train and test\n",
        "split = int(0.8*len(proj))\n",
        "train = proj[:split]\n",
        "test = proj[split:]"
      ],
      "metadata": {
        "id": "PVcWzSlZ7laL"
      },
      "execution_count": null,
      "outputs": []
    },
    {
      "cell_type": "code",
      "source": [
        "TEST_QUERY_ID = 14"
      ],
      "metadata": {
        "id": "C9C5QqpkPdzR"
      },
      "execution_count": null,
      "outputs": []
    },
    {
      "cell_type": "code",
      "source": [
        "def binary(n):\n",
        "  total = 1 << n\n",
        "  comb = []\n",
        "  for i in range(total):\n",
        "    b = bin(i)[2:]\n",
        "    b = '0' * (n - len(b)) + b\n",
        "    b = [int(i) for i in b]\n",
        "    comb.append(b)\n",
        "\n",
        "  return comb"
      ],
      "metadata": {
        "id": "D1xSaXZVIVoU"
      },
      "execution_count": null,
      "outputs": []
    },
    {
      "cell_type": "code",
      "source": [
        "# Initializations\n",
        "buckets = {}\n",
        "counter = 0\n",
        "\n",
        "nbits = 8\n",
        "d = train.shape[1]\n",
        "plane_norms = np.random.rand(d, nbits) - .5\n",
        "hashes = binary(nbits)\n",
        "\n",
        "for hash in hashes:\n",
        "  hash_code = ''.join([str(i) for i in hash])\n",
        "  buckets[hash_code] = []\n",
        "\n",
        "# convert to numpy array\n",
        "hashes = np.stack(hashes)"
      ],
      "metadata": {
        "id": "inwycorGIEW3"
      },
      "execution_count": null,
      "outputs": []
    },
    {
      "cell_type": "code",
      "source": [
        "def getDirection(vector):\n",
        "  # calculate dot product between vector and plane \n",
        "  direction = np.dot(vector, plane_norms)\n",
        "\n",
        "  # Determine if vector lies on positive or negative side of plane\n",
        "  direction = direction > 0\n",
        "  binary_hash = direction.astype(int)\n",
        "\n",
        "  return binary_hash"
      ],
      "metadata": {
        "id": "YRr7FkccJNX4"
      },
      "execution_count": null,
      "outputs": []
    },
    {
      "cell_type": "code",
      "source": [
        "def hashVector(vector, counter):\n",
        "  binary_hash = getDirection(vector)\n",
        "  binary_hash = ''.join(binary_hash.astype(str))\n",
        "\n",
        "  # add to buckets dictionary\n",
        "  buckets[binary_hash].append(counter)\n",
        "\n",
        "  counter += 1"
      ],
      "metadata": {
        "id": "sTt5isF3Jxtf"
      },
      "execution_count": null,
      "outputs": []
    },
    {
      "cell_type": "code",
      "source": [
        "def getDistance(hashed_vector):\n",
        "  # get hamming distance between query vector and all buckets in hashes\n",
        "  hamming_dist = np.count_nonzero(hashed_vector != hashes, axis=1).reshape(-1, 1)\n",
        "  hamming_dist = np.concatenate((hashes, hamming_dist), axis=1)\n",
        "\n",
        "  # sort by hamming distance\n",
        "  hamming_dist = hamming_dist[hamming_dist[:, -1].argsort()]\n",
        "\n",
        "  return hamming_dist"
      ],
      "metadata": {
        "id": "2AFtsUtLKFW2"
      },
      "execution_count": null,
      "outputs": []
    },
    {
      "cell_type": "code",
      "source": [
        "def getTopK(vector, k):\n",
        "  binary_hash = getDirection(vector)\n",
        "  hamming_distance = getDistance(binary_hash)\n",
        "\n",
        "  vec_ids = []\n",
        "  for row in hamming_distance:\n",
        "      str_hash = ''.join(row[:-1].astype(str))\n",
        "      bucket_ids = buckets[str_hash]\n",
        "      vec_ids.extend(bucket_ids)\n",
        "      if len(vec_ids) >= k:\n",
        "          vec_ids = vec_ids[:k]\n",
        "          break\n",
        "\n",
        "  return vec_ids"
      ],
      "metadata": {
        "id": "tUeDQFAqSUwX"
      },
      "execution_count": null,
      "outputs": []
    },
    {
      "cell_type": "code",
      "source": [
        "for i in range(len(train)):\n",
        "    hashVector(train.iloc[i], counter)"
      ],
      "metadata": {
        "id": "KFyHo8bktoyt"
      },
      "execution_count": null,
      "outputs": []
    },
    {
      "cell_type": "code",
      "source": [
        "top_10 = getTopK(test.iloc[TEST_QUERY_ID], k=10)"
      ],
      "metadata": {
        "id": "YHjy-fnx7Blw"
      },
      "execution_count": null,
      "outputs": []
    },
    {
      "cell_type": "code",
      "source": [
        "cos = cosine_similarity(train, [test.iloc[TEST_QUERY_ID]])\n",
        "np.mean(cos)"
      ],
      "metadata": {
        "colab": {
          "base_uri": "https://localhost:8080/"
        },
        "id": "tt-t5_Kg7PCP",
        "outputId": "28cb6ddd-8927-43bb-f43e-5a9b2190ba8e"
      },
      "execution_count": null,
      "outputs": [
        {
          "output_type": "execute_result",
          "data": {
            "text/plain": [
              "0.8973284191027858"
            ]
          },
          "metadata": {},
          "execution_count": 156
        }
      ]
    },
    {
      "cell_type": "markdown",
      "source": [
        "Top k vectors calculated using random projections show a high similarity \n",
        "\n",
        "\n"
      ],
      "metadata": {
        "id": "YJr0aLpHPrx8"
      }
    },
    {
      "cell_type": "code",
      "source": [],
      "metadata": {
        "id": "INJ3wEXrHQBI"
      },
      "execution_count": null,
      "outputs": []
    }
  ]
}