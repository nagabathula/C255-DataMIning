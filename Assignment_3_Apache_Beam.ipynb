{
  "nbformat": 4,
  "nbformat_minor": 0,
  "metadata": {
    "colab": {
      "provenance": [],
      "authorship_tag": "ABX9TyNSy1NR0gzEaTefopSurAuH",
      "include_colab_link": true
    },
    "kernelspec": {
      "name": "python3",
      "display_name": "Python 3"
    },
    "language_info": {
      "name": "python"
    }
  },
  "cells": [
    {
      "cell_type": "markdown",
      "metadata": {
        "id": "view-in-github",
        "colab_type": "text"
      },
      "source": [
        "<a href=\"https://colab.research.google.com/github/nagabathula/C255-DataMIning/blob/main/Assignment_3_Apache_Beam.ipynb\" target=\"_parent\"><img src=\"https://colab.research.google.com/assets/colab-badge.svg\" alt=\"Open In Colab\"/></a>"
      ]
    },
    {
      "cell_type": "code",
      "source": [
        "def run(cmd):\n",
        "  print('>> {}'.format(cmd))\n",
        "  !{cmd}\n",
        "  print('')\n",
        "\n",
        "# Install apache-beam.\n",
        "run('pip install --quiet apache-beam')\n",
        "\n",
        "# Copy the input file into the local file system.\n",
        "run('mkdir -p data')\n",
        "run('gsutil cp gs://dataflow-samples/shakespeare/kinglear.txt data/')"
      ],
      "metadata": {
        "colab": {
          "base_uri": "https://localhost:8080/"
        },
        "id": "_5k1IQ9S8Oc9",
        "outputId": "d79c2dba-16ba-4f16-9172-9dd86ddd73d4"
      },
      "execution_count": 5,
      "outputs": [
        {
          "output_type": "stream",
          "name": "stdout",
          "text": [
            ">> pip install --quiet apache-beam\n",
            "\n",
            ">> mkdir -p data\n",
            "\n",
            ">> gsutil cp gs://dataflow-samples/shakespeare/kinglear.txt data/\n",
            "Copying gs://dataflow-samples/shakespeare/kinglear.txt...\n",
            "/ [1 files][153.6 KiB/153.6 KiB]                                                \n",
            "Operation completed over 1 objects/153.6 KiB.                                    \n",
            "\n"
          ]
        }
      ]
    },
    {
      "cell_type": "code",
      "source": [
        "import apache_beam as beam\n",
        "import re\n",
        "\n",
        "inputs_pattern = 'data/*'\n",
        "outputs_prefix = 'outputs/part'\n",
        "\n",
        "# Running locally in the DirectRunner.\n",
        "with beam.Pipeline() as pipeline:\n",
        "  (\n",
        "      pipeline\n",
        "      | 'Read lines' >> beam.io.ReadFromText(inputs_pattern)\n",
        "      | 'Find words' >> beam.FlatMap(lambda line: re.findall(r\"[a-zA-Z']+\", line))\n",
        "      | 'Pair words with 1' >> beam.Map(lambda word: (word, 1))\n",
        "      | 'Group and sum' >> beam.CombinePerKey(sum)\n",
        "      | 'Format results' >> beam.Map(lambda word_count: str(word_count))\n",
        "      | 'Write results' >> beam.io.WriteToText(outputs_prefix)\n",
        "  )\n",
        "\n",
        "# Sample the first 20 results, remember there are no ordering guarantees.\n",
        "run('head -n 100 {}-00000-of-*'.format(outputs_prefix))"
      ],
      "metadata": {
        "colab": {
          "base_uri": "https://localhost:8080/"
        },
        "id": "NQEL2Rt7SlbM",
        "outputId": "c1855516-16a3-4233-ef2c-75d3ee803506"
      },
      "execution_count": 7,
      "outputs": [
        {
          "output_type": "stream",
          "name": "stderr",
          "text": [
            "INFO:root:Missing pipeline option (runner). Executing pipeline using the default runner: DirectRunner.\n",
            "INFO:root:Default Python SDK image for environment is apache/beam_python3.7_sdk:2.41.0\n",
            "INFO:apache_beam.runners.portability.fn_api_runner.translations:==================== <function annotate_downstream_side_inputs at 0x7f57001330e0> ====================\n",
            "INFO:apache_beam.runners.portability.fn_api_runner.translations:==================== <function fix_side_input_pcoll_coders at 0x7f5700133200> ====================\n",
            "INFO:apache_beam.runners.portability.fn_api_runner.translations:==================== <function pack_combiners at 0x7f5700133710> ====================\n",
            "INFO:apache_beam.runners.portability.fn_api_runner.translations:==================== <function lift_combiners at 0x7f57001337a0> ====================\n",
            "INFO:apache_beam.runners.portability.fn_api_runner.translations:==================== <function expand_sdf at 0x7f5700133950> ====================\n",
            "INFO:apache_beam.runners.portability.fn_api_runner.translations:==================== <function expand_gbk at 0x7f57001339e0> ====================\n",
            "INFO:apache_beam.runners.portability.fn_api_runner.translations:==================== <function sink_flattens at 0x7f5700133b00> ====================\n",
            "INFO:apache_beam.runners.portability.fn_api_runner.translations:==================== <function greedily_fuse at 0x7f5700133b90> ====================\n",
            "INFO:apache_beam.runners.portability.fn_api_runner.translations:==================== <function read_to_impulse at 0x7f5700133c20> ====================\n",
            "INFO:apache_beam.runners.portability.fn_api_runner.translations:==================== <function impulse_to_input at 0x7f5700133cb0> ====================\n",
            "INFO:apache_beam.runners.portability.fn_api_runner.translations:==================== <function sort_stages at 0x7f5700133ef0> ====================\n",
            "INFO:apache_beam.runners.portability.fn_api_runner.translations:==================== <function add_impulse_to_dangling_transforms at 0x7f5700134050> ====================\n",
            "INFO:apache_beam.runners.portability.fn_api_runner.translations:==================== <function setup_timer_mapping at 0x7f5700133e60> ====================\n",
            "INFO:apache_beam.runners.portability.fn_api_runner.translations:==================== <function populate_data_channel_coders at 0x7f5700133f80> ====================\n",
            "INFO:apache_beam.runners.worker.statecache:Creating state cache with size 100\n",
            "INFO:apache_beam.runners.portability.fn_api_runner.worker_handlers:Created Worker handler <apache_beam.runners.portability.fn_api_runner.worker_handlers.EmbeddedWorkerHandler object at 0x7f5700b64850> for environment ref_Environment_default_environment_1 (beam:env:embedded_python:v1, b'')\n",
            "WARNING:apache_beam.io.filebasedsink:Deleting 1 existing files in target path matching: -*-of-%(num_shards)05d\n",
            "INFO:apache_beam.io.filebasedsink:Starting finalize_write threads with num_shards: 1 (skipped: 0), batches: 1, num_threads: 1\n",
            "INFO:apache_beam.io.filebasedsink:Renamed 1 shards in 0.11 seconds.\n"
          ]
        },
        {
          "output_type": "stream",
          "name": "stdout",
          "text": [
            ">> head -n 100 outputs/part-00000-of-*\n",
            "('KING', 243)\n",
            "('LEAR', 236)\n",
            "('DRAMATIS', 1)\n",
            "('PERSONAE', 1)\n",
            "('king', 65)\n",
            "('of', 447)\n",
            "('Britain', 2)\n",
            "('OF', 15)\n",
            "('FRANCE', 10)\n",
            "('DUKE', 3)\n",
            "('BURGUNDY', 8)\n",
            "('CORNWALL', 63)\n",
            "('ALBANY', 67)\n",
            "('EARL', 2)\n",
            "('KENT', 156)\n",
            "('GLOUCESTER', 141)\n",
            "('EDGAR', 126)\n",
            "('son', 29)\n",
            "('to', 438)\n",
            "('Gloucester', 26)\n",
            "('EDMUND', 99)\n",
            "('bastard', 7)\n",
            "('CURAN', 6)\n",
            "('a', 366)\n",
            "('courtier', 1)\n",
            "('Old', 13)\n",
            "('Man', 11)\n",
            "('tenant', 3)\n",
            "('Doctor', 12)\n",
            "('Fool', 73)\n",
            "('OSWALD', 53)\n",
            "('steward', 2)\n",
            "('Goneril', 12)\n",
            "('A', 51)\n",
            "('Captain', 12)\n",
            "('employed', 1)\n",
            "('by', 69)\n",
            "('Edmund', 32)\n",
            "('Gentleman', 48)\n",
            "('attendant', 1)\n",
            "('on', 93)\n",
            "('Cordelia', 22)\n",
            "('Herald', 6)\n",
            "('Servants', 9)\n",
            "('Cornwall', 12)\n",
            "('First', 7)\n",
            "('Servant', 11)\n",
            "('Second', 4)\n",
            "('Third', 4)\n",
            "('GONERIL', 71)\n",
            "('REGAN', 86)\n",
            "('daughters', 24)\n",
            "('Lear', 17)\n",
            "('CORDELIA', 42)\n",
            "('Knights', 2)\n",
            "(\"Lear's\", 4)\n",
            "('train', 9)\n",
            "('Captains', 1)\n",
            "('Messengers', 1)\n",
            "('Soldiers', 7)\n",
            "('and', 594)\n",
            "('Attendants', 8)\n",
            "('Knight', 8)\n",
            "('Messenger', 10)\n",
            "('SCENE', 27)\n",
            "('ACT', 26)\n",
            "('I', 622)\n",
            "('King', 3)\n",
            "('palace', 4)\n",
            "('Enter', 63)\n",
            "('thought', 15)\n",
            "('the', 786)\n",
            "('had', 35)\n",
            "('more', 75)\n",
            "('affected', 2)\n",
            "('Duke', 8)\n",
            "('Albany', 6)\n",
            "('than', 51)\n",
            "('It', 19)\n",
            "('did', 19)\n",
            "('always', 2)\n",
            "('seem', 8)\n",
            "('so', 113)\n",
            "('us', 51)\n",
            "('but', 84)\n",
            "('now', 53)\n",
            "('in', 271)\n",
            "('division', 3)\n",
            "('kingdom', 12)\n",
            "('it', 171)\n",
            "('appears', 4)\n",
            "('not', 266)\n",
            "('which', 44)\n",
            "('dukes', 4)\n",
            "('he', 137)\n",
            "('values', 1)\n",
            "('most', 43)\n",
            "('for', 123)\n",
            "('equalities', 1)\n",
            "('are', 117)\n",
            "\n"
          ]
        }
      ]
    }
  ]
}