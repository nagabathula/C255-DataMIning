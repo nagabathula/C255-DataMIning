{
  "cells": [
    {
      "cell_type": "markdown",
      "metadata": {
        "id": "view-in-github",
        "colab_type": "text"
      },
      "source": [
        "<a href=\"https://colab.research.google.com/github/nagabathula/C255-DataMIning/blob/main/Line_Charts_with_D3_(NYC_Taxi_Dataset).ipynb\" target=\"_parent\"><img src=\"https://colab.research.google.com/assets/colab-badge.svg\" alt=\"Open In Colab\"/></a>"
      ]
    },
    {
      "cell_type": "markdown",
      "source": [
        "### Preliminary Analysis"
      ],
      "metadata": {
        "id": "KstwLeOUFzXR"
      }
    },
    {
      "cell_type": "markdown",
      "source": [
        "a) NYC Taxi Dataset \n",
        "b) Used D3 linecharts "
      ],
      "metadata": {
        "id": "ard7yVMxZjZn"
      }
    },
    {
      "cell_type": "code",
      "source": [],
      "metadata": {
        "id": "lQ93ayVGZioq"
      },
      "execution_count": null,
      "outputs": []
    },
    {
      "cell_type": "code",
      "source": [
        "import pandas as pd\n",
        "\n",
        "def load_data():\n",
        "  return pd.concat([pd.read_parquet('/content/green_tripdata_2021-01.parquet')])\n",
        "\n",
        "raw_data = load_data()\n",
        "\n",
        "print(raw_data.head())\n",
        "print(raw_data.info())"
      ],
      "metadata": {
        "id": "q0DmJjO0FyS2",
        "colab": {
          "base_uri": "https://localhost:8080/"
        },
        "outputId": "52e73693-c141-4e07-ac08-dfe368ec278c"
      },
      "execution_count": 47,
      "outputs": [
        {
          "output_type": "stream",
          "name": "stdout",
          "text": [
            "   VendorID lpep_pickup_datetime lpep_dropoff_datetime store_and_fwd_flag  \\\n",
            "0         2  2021-01-01 00:15:56   2021-01-01 00:19:52                  N   \n",
            "1         2  2021-01-01 00:25:59   2021-01-01 00:34:44                  N   \n",
            "2         2  2021-01-01 00:45:57   2021-01-01 00:51:55                  N   \n",
            "3         2  2020-12-31 23:57:51   2021-01-01 00:04:56                  N   \n",
            "4         2  2021-01-01 00:16:36   2021-01-01 00:16:40                  N   \n",
            "\n",
            "   RatecodeID  PULocationID  DOLocationID  passenger_count  trip_distance  \\\n",
            "0         1.0            43           151              1.0           1.01   \n",
            "1         1.0           166           239              1.0           2.53   \n",
            "2         1.0            41            42              1.0           1.12   \n",
            "3         1.0           168            75              1.0           1.99   \n",
            "4         2.0           265           265              3.0           0.00   \n",
            "\n",
            "   fare_amount  extra  mta_tax  tip_amount  tolls_amount ehail_fee  \\\n",
            "0          5.5    0.5      0.5        0.00           0.0      None   \n",
            "1         10.0    0.5      0.5        2.81           0.0      None   \n",
            "2          6.0    0.5      0.5        1.00           0.0      None   \n",
            "3          8.0    0.5      0.5        0.00           0.0      None   \n",
            "4        -52.0    0.0     -0.5        0.00           0.0      None   \n",
            "\n",
            "   improvement_surcharge  total_amount  payment_type  trip_type  \\\n",
            "0                    0.3          6.80           2.0        1.0   \n",
            "1                    0.3         16.86           1.0        1.0   \n",
            "2                    0.3          8.30           1.0        1.0   \n",
            "3                    0.3          9.30           2.0        1.0   \n",
            "4                   -0.3        -52.80           3.0        1.0   \n",
            "\n",
            "   congestion_surcharge  \n",
            "0                  0.00  \n",
            "1                  2.75  \n",
            "2                  0.00  \n",
            "3                  0.00  \n",
            "4                  0.00  \n",
            "<class 'pandas.core.frame.DataFrame'>\n",
            "RangeIndex: 76518 entries, 0 to 76517\n",
            "Data columns (total 20 columns):\n",
            " #   Column                 Non-Null Count  Dtype         \n",
            "---  ------                 --------------  -----         \n",
            " 0   VendorID               76518 non-null  int64         \n",
            " 1   lpep_pickup_datetime   76518 non-null  datetime64[ns]\n",
            " 2   lpep_dropoff_datetime  76518 non-null  datetime64[ns]\n",
            " 3   store_and_fwd_flag     40471 non-null  object        \n",
            " 4   RatecodeID             40471 non-null  float64       \n",
            " 5   PULocationID           76518 non-null  int64         \n",
            " 6   DOLocationID           76518 non-null  int64         \n",
            " 7   passenger_count        40471 non-null  float64       \n",
            " 8   trip_distance          76518 non-null  float64       \n",
            " 9   fare_amount            76518 non-null  float64       \n",
            " 10  extra                  76518 non-null  float64       \n",
            " 11  mta_tax                76518 non-null  float64       \n",
            " 12  tip_amount             76518 non-null  float64       \n",
            " 13  tolls_amount           76518 non-null  float64       \n",
            " 14  ehail_fee              0 non-null      object        \n",
            " 15  improvement_surcharge  76518 non-null  float64       \n",
            " 16  total_amount           76518 non-null  float64       \n",
            " 17  payment_type           40471 non-null  float64       \n",
            " 18  trip_type              40471 non-null  float64       \n",
            " 19  congestion_surcharge   40471 non-null  float64       \n",
            "dtypes: datetime64[ns](2), float64(13), int64(3), object(2)\n",
            "memory usage: 11.7+ MB\n",
            "None\n"
          ]
        }
      ]
    },
    {
      "cell_type": "code",
      "source": [
        "taxi_df = raw_data.copy()\n",
        "taxi_df.info()"
      ],
      "metadata": {
        "id": "9PJk-U46GaDi",
        "colab": {
          "base_uri": "https://localhost:8080/"
        },
        "outputId": "4a3f0967-be3a-4cb9-d44e-09979429175d"
      },
      "execution_count": 48,
      "outputs": [
        {
          "output_type": "stream",
          "name": "stdout",
          "text": [
            "<class 'pandas.core.frame.DataFrame'>\n",
            "RangeIndex: 76518 entries, 0 to 76517\n",
            "Data columns (total 20 columns):\n",
            " #   Column                 Non-Null Count  Dtype         \n",
            "---  ------                 --------------  -----         \n",
            " 0   VendorID               76518 non-null  int64         \n",
            " 1   lpep_pickup_datetime   76518 non-null  datetime64[ns]\n",
            " 2   lpep_dropoff_datetime  76518 non-null  datetime64[ns]\n",
            " 3   store_and_fwd_flag     40471 non-null  object        \n",
            " 4   RatecodeID             40471 non-null  float64       \n",
            " 5   PULocationID           76518 non-null  int64         \n",
            " 6   DOLocationID           76518 non-null  int64         \n",
            " 7   passenger_count        40471 non-null  float64       \n",
            " 8   trip_distance          76518 non-null  float64       \n",
            " 9   fare_amount            76518 non-null  float64       \n",
            " 10  extra                  76518 non-null  float64       \n",
            " 11  mta_tax                76518 non-null  float64       \n",
            " 12  tip_amount             76518 non-null  float64       \n",
            " 13  tolls_amount           76518 non-null  float64       \n",
            " 14  ehail_fee              0 non-null      object        \n",
            " 15  improvement_surcharge  76518 non-null  float64       \n",
            " 16  total_amount           76518 non-null  float64       \n",
            " 17  payment_type           40471 non-null  float64       \n",
            " 18  trip_type              40471 non-null  float64       \n",
            " 19  congestion_surcharge   40471 non-null  float64       \n",
            "dtypes: datetime64[ns](2), float64(13), int64(3), object(2)\n",
            "memory usage: 11.7+ MB\n"
          ]
        }
      ]
    },
    {
      "cell_type": "code",
      "source": [
        "taxi_df = raw_data.copy()\n",
        "\n",
        "taxi_df['lpep_pickup_date'] = \\\n",
        "    pd.DatetimeIndex(taxi_df['lpep_pickup_datetime']).date\n",
        "\n",
        "taxi_df['lpep_pickup_time'] = \\\n",
        "    pd.DatetimeIndex(taxi_df['lpep_pickup_datetime']).time\n",
        "\n",
        "taxi_df = taxi_df[['VendorID', 'lpep_pickup_date', \n",
        "                   'lpep_pickup_time', 'PULocationID', \n",
        "                   'DOLocationID', 'total_amount',\n",
        "                   'tip_amount']]\n",
        "\n",
        "taxi_df.head()"
      ],
      "metadata": {
        "id": "bv88u52FvgR9",
        "colab": {
          "base_uri": "https://localhost:8080/",
          "height": 270
        },
        "outputId": "e81562ea-9ef4-46e8-c384-04955fc94854"
      },
      "execution_count": 49,
      "outputs": [
        {
          "output_type": "execute_result",
          "data": {
            "text/plain": [
              "   VendorID lpep_pickup_date lpep_pickup_time  PULocationID  DOLocationID  \\\n",
              "0         2       2021-01-01         00:15:56            43           151   \n",
              "1         2       2021-01-01         00:25:59           166           239   \n",
              "2         2       2021-01-01         00:45:57            41            42   \n",
              "3         2       2020-12-31         23:57:51           168            75   \n",
              "4         2       2021-01-01         00:16:36           265           265   \n",
              "\n",
              "   total_amount  tip_amount  \n",
              "0          6.80        0.00  \n",
              "1         16.86        2.81  \n",
              "2          8.30        1.00  \n",
              "3          9.30        0.00  \n",
              "4        -52.80        0.00  "
            ],
            "text/html": [
              "\n",
              "  <div id=\"df-7e465c4a-03b5-4b46-8fca-116b2522d008\">\n",
              "    <div class=\"colab-df-container\">\n",
              "      <div>\n",
              "<style scoped>\n",
              "    .dataframe tbody tr th:only-of-type {\n",
              "        vertical-align: middle;\n",
              "    }\n",
              "\n",
              "    .dataframe tbody tr th {\n",
              "        vertical-align: top;\n",
              "    }\n",
              "\n",
              "    .dataframe thead th {\n",
              "        text-align: right;\n",
              "    }\n",
              "</style>\n",
              "<table border=\"1\" class=\"dataframe\">\n",
              "  <thead>\n",
              "    <tr style=\"text-align: right;\">\n",
              "      <th></th>\n",
              "      <th>VendorID</th>\n",
              "      <th>lpep_pickup_date</th>\n",
              "      <th>lpep_pickup_time</th>\n",
              "      <th>PULocationID</th>\n",
              "      <th>DOLocationID</th>\n",
              "      <th>total_amount</th>\n",
              "      <th>tip_amount</th>\n",
              "    </tr>\n",
              "  </thead>\n",
              "  <tbody>\n",
              "    <tr>\n",
              "      <th>0</th>\n",
              "      <td>2</td>\n",
              "      <td>2021-01-01</td>\n",
              "      <td>00:15:56</td>\n",
              "      <td>43</td>\n",
              "      <td>151</td>\n",
              "      <td>6.80</td>\n",
              "      <td>0.00</td>\n",
              "    </tr>\n",
              "    <tr>\n",
              "      <th>1</th>\n",
              "      <td>2</td>\n",
              "      <td>2021-01-01</td>\n",
              "      <td>00:25:59</td>\n",
              "      <td>166</td>\n",
              "      <td>239</td>\n",
              "      <td>16.86</td>\n",
              "      <td>2.81</td>\n",
              "    </tr>\n",
              "    <tr>\n",
              "      <th>2</th>\n",
              "      <td>2</td>\n",
              "      <td>2021-01-01</td>\n",
              "      <td>00:45:57</td>\n",
              "      <td>41</td>\n",
              "      <td>42</td>\n",
              "      <td>8.30</td>\n",
              "      <td>1.00</td>\n",
              "    </tr>\n",
              "    <tr>\n",
              "      <th>3</th>\n",
              "      <td>2</td>\n",
              "      <td>2020-12-31</td>\n",
              "      <td>23:57:51</td>\n",
              "      <td>168</td>\n",
              "      <td>75</td>\n",
              "      <td>9.30</td>\n",
              "      <td>0.00</td>\n",
              "    </tr>\n",
              "    <tr>\n",
              "      <th>4</th>\n",
              "      <td>2</td>\n",
              "      <td>2021-01-01</td>\n",
              "      <td>00:16:36</td>\n",
              "      <td>265</td>\n",
              "      <td>265</td>\n",
              "      <td>-52.80</td>\n",
              "      <td>0.00</td>\n",
              "    </tr>\n",
              "  </tbody>\n",
              "</table>\n",
              "</div>\n",
              "      <button class=\"colab-df-convert\" onclick=\"convertToInteractive('df-7e465c4a-03b5-4b46-8fca-116b2522d008')\"\n",
              "              title=\"Convert this dataframe to an interactive table.\"\n",
              "              style=\"display:none;\">\n",
              "        \n",
              "  <svg xmlns=\"http://www.w3.org/2000/svg\" height=\"24px\"viewBox=\"0 0 24 24\"\n",
              "       width=\"24px\">\n",
              "    <path d=\"M0 0h24v24H0V0z\" fill=\"none\"/>\n",
              "    <path d=\"M18.56 5.44l.94 2.06.94-2.06 2.06-.94-2.06-.94-.94-2.06-.94 2.06-2.06.94zm-11 1L8.5 8.5l.94-2.06 2.06-.94-2.06-.94L8.5 2.5l-.94 2.06-2.06.94zm10 10l.94 2.06.94-2.06 2.06-.94-2.06-.94-.94-2.06-.94 2.06-2.06.94z\"/><path d=\"M17.41 7.96l-1.37-1.37c-.4-.4-.92-.59-1.43-.59-.52 0-1.04.2-1.43.59L10.3 9.45l-7.72 7.72c-.78.78-.78 2.05 0 2.83L4 21.41c.39.39.9.59 1.41.59.51 0 1.02-.2 1.41-.59l7.78-7.78 2.81-2.81c.8-.78.8-2.07 0-2.86zM5.41 20L4 18.59l7.72-7.72 1.47 1.35L5.41 20z\"/>\n",
              "  </svg>\n",
              "      </button>\n",
              "      \n",
              "  <style>\n",
              "    .colab-df-container {\n",
              "      display:flex;\n",
              "      flex-wrap:wrap;\n",
              "      gap: 12px;\n",
              "    }\n",
              "\n",
              "    .colab-df-convert {\n",
              "      background-color: #E8F0FE;\n",
              "      border: none;\n",
              "      border-radius: 50%;\n",
              "      cursor: pointer;\n",
              "      display: none;\n",
              "      fill: #1967D2;\n",
              "      height: 32px;\n",
              "      padding: 0 0 0 0;\n",
              "      width: 32px;\n",
              "    }\n",
              "\n",
              "    .colab-df-convert:hover {\n",
              "      background-color: #E2EBFA;\n",
              "      box-shadow: 0px 1px 2px rgba(60, 64, 67, 0.3), 0px 1px 3px 1px rgba(60, 64, 67, 0.15);\n",
              "      fill: #174EA6;\n",
              "    }\n",
              "\n",
              "    [theme=dark] .colab-df-convert {\n",
              "      background-color: #3B4455;\n",
              "      fill: #D2E3FC;\n",
              "    }\n",
              "\n",
              "    [theme=dark] .colab-df-convert:hover {\n",
              "      background-color: #434B5C;\n",
              "      box-shadow: 0px 1px 3px 1px rgba(0, 0, 0, 0.15);\n",
              "      filter: drop-shadow(0px 1px 2px rgba(0, 0, 0, 0.3));\n",
              "      fill: #FFFFFF;\n",
              "    }\n",
              "  </style>\n",
              "\n",
              "      <script>\n",
              "        const buttonEl =\n",
              "          document.querySelector('#df-7e465c4a-03b5-4b46-8fca-116b2522d008 button.colab-df-convert');\n",
              "        buttonEl.style.display =\n",
              "          google.colab.kernel.accessAllowed ? 'block' : 'none';\n",
              "\n",
              "        async function convertToInteractive(key) {\n",
              "          const element = document.querySelector('#df-7e465c4a-03b5-4b46-8fca-116b2522d008');\n",
              "          const dataTable =\n",
              "            await google.colab.kernel.invokeFunction('convertToInteractive',\n",
              "                                                     [key], {});\n",
              "          if (!dataTable) return;\n",
              "\n",
              "          const docLinkHtml = 'Like what you see? Visit the ' +\n",
              "            '<a target=\"_blank\" href=https://colab.research.google.com/notebooks/data_table.ipynb>data table notebook</a>'\n",
              "            + ' to learn more about interactive tables.';\n",
              "          element.innerHTML = '';\n",
              "          dataTable['output_type'] = 'display_data';\n",
              "          await google.colab.output.renderOutput(dataTable, element);\n",
              "          const docLink = document.createElement('div');\n",
              "          docLink.innerHTML = docLinkHtml;\n",
              "          element.appendChild(docLink);\n",
              "        }\n",
              "      </script>\n",
              "    </div>\n",
              "  </div>\n",
              "  "
            ]
          },
          "metadata": {},
          "execution_count": 49
        }
      ]
    },
    {
      "cell_type": "code",
      "source": [
        "taxi_df.info()"
      ],
      "metadata": {
        "id": "XC-bsVx6r63j",
        "colab": {
          "base_uri": "https://localhost:8080/"
        },
        "outputId": "2884ec95-312a-4846-dd16-9ee5c30fb8d8"
      },
      "execution_count": 50,
      "outputs": [
        {
          "output_type": "stream",
          "name": "stdout",
          "text": [
            "<class 'pandas.core.frame.DataFrame'>\n",
            "RangeIndex: 76518 entries, 0 to 76517\n",
            "Data columns (total 7 columns):\n",
            " #   Column            Non-Null Count  Dtype  \n",
            "---  ------            --------------  -----  \n",
            " 0   VendorID          76518 non-null  int64  \n",
            " 1   lpep_pickup_date  76518 non-null  object \n",
            " 2   lpep_pickup_time  76518 non-null  object \n",
            " 3   PULocationID      76518 non-null  int64  \n",
            " 4   DOLocationID      76518 non-null  int64  \n",
            " 5   total_amount      76518 non-null  float64\n",
            " 6   tip_amount        76518 non-null  float64\n",
            "dtypes: float64(2), int64(3), object(2)\n",
            "memory usage: 4.1+ MB\n"
          ]
        }
      ]
    },
    {
      "cell_type": "markdown",
      "source": [
        "## Group by `'lpep_pickup_date'` and `'VendorID'`"
      ],
      "metadata": {
        "id": "r5Lx1lMrrHBC"
      }
    },
    {
      "cell_type": "code",
      "source": [
        "pd.DataFrame(taxi_df.groupby(['lpep_pickup_date','VendorID']).size()).head()"
      ],
      "metadata": {
        "id": "dMbCMr1PvuzZ",
        "colab": {
          "base_uri": "https://localhost:8080/",
          "height": 238
        },
        "outputId": "a93dcf9c-c2ec-4fe4-c9b6-5ea17f93e13a"
      },
      "execution_count": 51,
      "outputs": [
        {
          "output_type": "execute_result",
          "data": {
            "text/plain": [
              "                             0\n",
              "lpep_pickup_date VendorID     \n",
              "2009-01-01       2           2\n",
              "2020-12-31       2           1\n",
              "2021-01-01       1          96\n",
              "                 2         935\n",
              "2021-01-02       1         174"
            ],
            "text/html": [
              "\n",
              "  <div id=\"df-26d988ad-a9ee-4512-8ce7-672af502c92f\">\n",
              "    <div class=\"colab-df-container\">\n",
              "      <div>\n",
              "<style scoped>\n",
              "    .dataframe tbody tr th:only-of-type {\n",
              "        vertical-align: middle;\n",
              "    }\n",
              "\n",
              "    .dataframe tbody tr th {\n",
              "        vertical-align: top;\n",
              "    }\n",
              "\n",
              "    .dataframe thead th {\n",
              "        text-align: right;\n",
              "    }\n",
              "</style>\n",
              "<table border=\"1\" class=\"dataframe\">\n",
              "  <thead>\n",
              "    <tr style=\"text-align: right;\">\n",
              "      <th></th>\n",
              "      <th></th>\n",
              "      <th>0</th>\n",
              "    </tr>\n",
              "    <tr>\n",
              "      <th>lpep_pickup_date</th>\n",
              "      <th>VendorID</th>\n",
              "      <th></th>\n",
              "    </tr>\n",
              "  </thead>\n",
              "  <tbody>\n",
              "    <tr>\n",
              "      <th>2009-01-01</th>\n",
              "      <th>2</th>\n",
              "      <td>2</td>\n",
              "    </tr>\n",
              "    <tr>\n",
              "      <th>2020-12-31</th>\n",
              "      <th>2</th>\n",
              "      <td>1</td>\n",
              "    </tr>\n",
              "    <tr>\n",
              "      <th rowspan=\"2\" valign=\"top\">2021-01-01</th>\n",
              "      <th>1</th>\n",
              "      <td>96</td>\n",
              "    </tr>\n",
              "    <tr>\n",
              "      <th>2</th>\n",
              "      <td>935</td>\n",
              "    </tr>\n",
              "    <tr>\n",
              "      <th>2021-01-02</th>\n",
              "      <th>1</th>\n",
              "      <td>174</td>\n",
              "    </tr>\n",
              "  </tbody>\n",
              "</table>\n",
              "</div>\n",
              "      <button class=\"colab-df-convert\" onclick=\"convertToInteractive('df-26d988ad-a9ee-4512-8ce7-672af502c92f')\"\n",
              "              title=\"Convert this dataframe to an interactive table.\"\n",
              "              style=\"display:none;\">\n",
              "        \n",
              "  <svg xmlns=\"http://www.w3.org/2000/svg\" height=\"24px\"viewBox=\"0 0 24 24\"\n",
              "       width=\"24px\">\n",
              "    <path d=\"M0 0h24v24H0V0z\" fill=\"none\"/>\n",
              "    <path d=\"M18.56 5.44l.94 2.06.94-2.06 2.06-.94-2.06-.94-.94-2.06-.94 2.06-2.06.94zm-11 1L8.5 8.5l.94-2.06 2.06-.94-2.06-.94L8.5 2.5l-.94 2.06-2.06.94zm10 10l.94 2.06.94-2.06 2.06-.94-2.06-.94-.94-2.06-.94 2.06-2.06.94z\"/><path d=\"M17.41 7.96l-1.37-1.37c-.4-.4-.92-.59-1.43-.59-.52 0-1.04.2-1.43.59L10.3 9.45l-7.72 7.72c-.78.78-.78 2.05 0 2.83L4 21.41c.39.39.9.59 1.41.59.51 0 1.02-.2 1.41-.59l7.78-7.78 2.81-2.81c.8-.78.8-2.07 0-2.86zM5.41 20L4 18.59l7.72-7.72 1.47 1.35L5.41 20z\"/>\n",
              "  </svg>\n",
              "      </button>\n",
              "      \n",
              "  <style>\n",
              "    .colab-df-container {\n",
              "      display:flex;\n",
              "      flex-wrap:wrap;\n",
              "      gap: 12px;\n",
              "    }\n",
              "\n",
              "    .colab-df-convert {\n",
              "      background-color: #E8F0FE;\n",
              "      border: none;\n",
              "      border-radius: 50%;\n",
              "      cursor: pointer;\n",
              "      display: none;\n",
              "      fill: #1967D2;\n",
              "      height: 32px;\n",
              "      padding: 0 0 0 0;\n",
              "      width: 32px;\n",
              "    }\n",
              "\n",
              "    .colab-df-convert:hover {\n",
              "      background-color: #E2EBFA;\n",
              "      box-shadow: 0px 1px 2px rgba(60, 64, 67, 0.3), 0px 1px 3px 1px rgba(60, 64, 67, 0.15);\n",
              "      fill: #174EA6;\n",
              "    }\n",
              "\n",
              "    [theme=dark] .colab-df-convert {\n",
              "      background-color: #3B4455;\n",
              "      fill: #D2E3FC;\n",
              "    }\n",
              "\n",
              "    [theme=dark] .colab-df-convert:hover {\n",
              "      background-color: #434B5C;\n",
              "      box-shadow: 0px 1px 3px 1px rgba(0, 0, 0, 0.15);\n",
              "      filter: drop-shadow(0px 1px 2px rgba(0, 0, 0, 0.3));\n",
              "      fill: #FFFFFF;\n",
              "    }\n",
              "  </style>\n",
              "\n",
              "      <script>\n",
              "        const buttonEl =\n",
              "          document.querySelector('#df-26d988ad-a9ee-4512-8ce7-672af502c92f button.colab-df-convert');\n",
              "        buttonEl.style.display =\n",
              "          google.colab.kernel.accessAllowed ? 'block' : 'none';\n",
              "\n",
              "        async function convertToInteractive(key) {\n",
              "          const element = document.querySelector('#df-26d988ad-a9ee-4512-8ce7-672af502c92f');\n",
              "          const dataTable =\n",
              "            await google.colab.kernel.invokeFunction('convertToInteractive',\n",
              "                                                     [key], {});\n",
              "          if (!dataTable) return;\n",
              "\n",
              "          const docLinkHtml = 'Like what you see? Visit the ' +\n",
              "            '<a target=\"_blank\" href=https://colab.research.google.com/notebooks/data_table.ipynb>data table notebook</a>'\n",
              "            + ' to learn more about interactive tables.';\n",
              "          element.innerHTML = '';\n",
              "          dataTable['output_type'] = 'display_data';\n",
              "          await google.colab.output.renderOutput(dataTable, element);\n",
              "          const docLink = document.createElement('div');\n",
              "          docLink.innerHTML = docLinkHtml;\n",
              "          element.appendChild(docLink);\n",
              "        }\n",
              "      </script>\n",
              "    </div>\n",
              "  </div>\n",
              "  "
            ]
          },
          "metadata": {},
          "execution_count": 51
        }
      ]
    },
    {
      "cell_type": "code",
      "source": [
        "pickups_by_date = \\\n",
        "    pd.DataFrame(taxi_df.groupby(['lpep_pickup_date','VendorID'])\n",
        "                        .size())\n",
        "  \n",
        "pickups_by_date.reset_index(inplace=True)\n",
        "pickups_by_date = \\\n",
        "    pickups_by_date.rename(\n",
        "                  columns = {\n",
        "                              'index':'lpep_pickup_date', \n",
        "                              0 : 'count', \n",
        "                              'VendorID' : 'vendor_id'\n",
        "                            })\n",
        "\n",
        "pickups_by_date.head(10)"
      ],
      "metadata": {
        "id": "MtYRyUGHqViB",
        "colab": {
          "base_uri": "https://localhost:8080/",
          "height": 363
        },
        "outputId": "0e70100b-c11d-4841-f76b-f96b566ad6bd"
      },
      "execution_count": 52,
      "outputs": [
        {
          "output_type": "execute_result",
          "data": {
            "text/plain": [
              "  lpep_pickup_date  vendor_id  count\n",
              "0       2009-01-01          2      2\n",
              "1       2020-12-31          2      1\n",
              "2       2021-01-01          1     96\n",
              "3       2021-01-01          2    935\n",
              "4       2021-01-02          1    174\n",
              "5       2021-01-02          2   1730\n",
              "6       2021-01-03          1    114\n",
              "7       2021-01-03          2   1206\n",
              "8       2021-01-04          1    236\n",
              "9       2021-01-04          2   2672"
            ],
            "text/html": [
              "\n",
              "  <div id=\"df-e218af5f-eff9-43be-8111-4e44513e74b0\">\n",
              "    <div class=\"colab-df-container\">\n",
              "      <div>\n",
              "<style scoped>\n",
              "    .dataframe tbody tr th:only-of-type {\n",
              "        vertical-align: middle;\n",
              "    }\n",
              "\n",
              "    .dataframe tbody tr th {\n",
              "        vertical-align: top;\n",
              "    }\n",
              "\n",
              "    .dataframe thead th {\n",
              "        text-align: right;\n",
              "    }\n",
              "</style>\n",
              "<table border=\"1\" class=\"dataframe\">\n",
              "  <thead>\n",
              "    <tr style=\"text-align: right;\">\n",
              "      <th></th>\n",
              "      <th>lpep_pickup_date</th>\n",
              "      <th>vendor_id</th>\n",
              "      <th>count</th>\n",
              "    </tr>\n",
              "  </thead>\n",
              "  <tbody>\n",
              "    <tr>\n",
              "      <th>0</th>\n",
              "      <td>2009-01-01</td>\n",
              "      <td>2</td>\n",
              "      <td>2</td>\n",
              "    </tr>\n",
              "    <tr>\n",
              "      <th>1</th>\n",
              "      <td>2020-12-31</td>\n",
              "      <td>2</td>\n",
              "      <td>1</td>\n",
              "    </tr>\n",
              "    <tr>\n",
              "      <th>2</th>\n",
              "      <td>2021-01-01</td>\n",
              "      <td>1</td>\n",
              "      <td>96</td>\n",
              "    </tr>\n",
              "    <tr>\n",
              "      <th>3</th>\n",
              "      <td>2021-01-01</td>\n",
              "      <td>2</td>\n",
              "      <td>935</td>\n",
              "    </tr>\n",
              "    <tr>\n",
              "      <th>4</th>\n",
              "      <td>2021-01-02</td>\n",
              "      <td>1</td>\n",
              "      <td>174</td>\n",
              "    </tr>\n",
              "    <tr>\n",
              "      <th>5</th>\n",
              "      <td>2021-01-02</td>\n",
              "      <td>2</td>\n",
              "      <td>1730</td>\n",
              "    </tr>\n",
              "    <tr>\n",
              "      <th>6</th>\n",
              "      <td>2021-01-03</td>\n",
              "      <td>1</td>\n",
              "      <td>114</td>\n",
              "    </tr>\n",
              "    <tr>\n",
              "      <th>7</th>\n",
              "      <td>2021-01-03</td>\n",
              "      <td>2</td>\n",
              "      <td>1206</td>\n",
              "    </tr>\n",
              "    <tr>\n",
              "      <th>8</th>\n",
              "      <td>2021-01-04</td>\n",
              "      <td>1</td>\n",
              "      <td>236</td>\n",
              "    </tr>\n",
              "    <tr>\n",
              "      <th>9</th>\n",
              "      <td>2021-01-04</td>\n",
              "      <td>2</td>\n",
              "      <td>2672</td>\n",
              "    </tr>\n",
              "  </tbody>\n",
              "</table>\n",
              "</div>\n",
              "      <button class=\"colab-df-convert\" onclick=\"convertToInteractive('df-e218af5f-eff9-43be-8111-4e44513e74b0')\"\n",
              "              title=\"Convert this dataframe to an interactive table.\"\n",
              "              style=\"display:none;\">\n",
              "        \n",
              "  <svg xmlns=\"http://www.w3.org/2000/svg\" height=\"24px\"viewBox=\"0 0 24 24\"\n",
              "       width=\"24px\">\n",
              "    <path d=\"M0 0h24v24H0V0z\" fill=\"none\"/>\n",
              "    <path d=\"M18.56 5.44l.94 2.06.94-2.06 2.06-.94-2.06-.94-.94-2.06-.94 2.06-2.06.94zm-11 1L8.5 8.5l.94-2.06 2.06-.94-2.06-.94L8.5 2.5l-.94 2.06-2.06.94zm10 10l.94 2.06.94-2.06 2.06-.94-2.06-.94-.94-2.06-.94 2.06-2.06.94z\"/><path d=\"M17.41 7.96l-1.37-1.37c-.4-.4-.92-.59-1.43-.59-.52 0-1.04.2-1.43.59L10.3 9.45l-7.72 7.72c-.78.78-.78 2.05 0 2.83L4 21.41c.39.39.9.59 1.41.59.51 0 1.02-.2 1.41-.59l7.78-7.78 2.81-2.81c.8-.78.8-2.07 0-2.86zM5.41 20L4 18.59l7.72-7.72 1.47 1.35L5.41 20z\"/>\n",
              "  </svg>\n",
              "      </button>\n",
              "      \n",
              "  <style>\n",
              "    .colab-df-container {\n",
              "      display:flex;\n",
              "      flex-wrap:wrap;\n",
              "      gap: 12px;\n",
              "    }\n",
              "\n",
              "    .colab-df-convert {\n",
              "      background-color: #E8F0FE;\n",
              "      border: none;\n",
              "      border-radius: 50%;\n",
              "      cursor: pointer;\n",
              "      display: none;\n",
              "      fill: #1967D2;\n",
              "      height: 32px;\n",
              "      padding: 0 0 0 0;\n",
              "      width: 32px;\n",
              "    }\n",
              "\n",
              "    .colab-df-convert:hover {\n",
              "      background-color: #E2EBFA;\n",
              "      box-shadow: 0px 1px 2px rgba(60, 64, 67, 0.3), 0px 1px 3px 1px rgba(60, 64, 67, 0.15);\n",
              "      fill: #174EA6;\n",
              "    }\n",
              "\n",
              "    [theme=dark] .colab-df-convert {\n",
              "      background-color: #3B4455;\n",
              "      fill: #D2E3FC;\n",
              "    }\n",
              "\n",
              "    [theme=dark] .colab-df-convert:hover {\n",
              "      background-color: #434B5C;\n",
              "      box-shadow: 0px 1px 3px 1px rgba(0, 0, 0, 0.15);\n",
              "      filter: drop-shadow(0px 1px 2px rgba(0, 0, 0, 0.3));\n",
              "      fill: #FFFFFF;\n",
              "    }\n",
              "  </style>\n",
              "\n",
              "      <script>\n",
              "        const buttonEl =\n",
              "          document.querySelector('#df-e218af5f-eff9-43be-8111-4e44513e74b0 button.colab-df-convert');\n",
              "        buttonEl.style.display =\n",
              "          google.colab.kernel.accessAllowed ? 'block' : 'none';\n",
              "\n",
              "        async function convertToInteractive(key) {\n",
              "          const element = document.querySelector('#df-e218af5f-eff9-43be-8111-4e44513e74b0');\n",
              "          const dataTable =\n",
              "            await google.colab.kernel.invokeFunction('convertToInteractive',\n",
              "                                                     [key], {});\n",
              "          if (!dataTable) return;\n",
              "\n",
              "          const docLinkHtml = 'Like what you see? Visit the ' +\n",
              "            '<a target=\"_blank\" href=https://colab.research.google.com/notebooks/data_table.ipynb>data table notebook</a>'\n",
              "            + ' to learn more about interactive tables.';\n",
              "          element.innerHTML = '';\n",
              "          dataTable['output_type'] = 'display_data';\n",
              "          await google.colab.output.renderOutput(dataTable, element);\n",
              "          const docLink = document.createElement('div');\n",
              "          docLink.innerHTML = docLinkHtml;\n",
              "          element.appendChild(docLink);\n",
              "        }\n",
              "      </script>\n",
              "    </div>\n",
              "  </div>\n",
              "  "
            ]
          },
          "metadata": {},
          "execution_count": 52
        }
      ]
    },
    {
      "cell_type": "code",
      "source": [
        "pickups_by_date[pd.DatetimeIndex(pickups_by_date['lpep_pickup_date']).year != 2021]"
      ],
      "metadata": {
        "id": "If6cE-XGGIYA",
        "colab": {
          "base_uri": "https://localhost:8080/",
          "height": 112
        },
        "outputId": "a27e087f-43b5-4bde-8b6b-6a2f68141741"
      },
      "execution_count": 53,
      "outputs": [
        {
          "output_type": "execute_result",
          "data": {
            "text/plain": [
              "  lpep_pickup_date  vendor_id  count\n",
              "0       2009-01-01          2      2\n",
              "1       2020-12-31          2      1"
            ],
            "text/html": [
              "\n",
              "  <div id=\"df-5b51ac50-7abb-490d-b251-73ecb4943a8a\">\n",
              "    <div class=\"colab-df-container\">\n",
              "      <div>\n",
              "<style scoped>\n",
              "    .dataframe tbody tr th:only-of-type {\n",
              "        vertical-align: middle;\n",
              "    }\n",
              "\n",
              "    .dataframe tbody tr th {\n",
              "        vertical-align: top;\n",
              "    }\n",
              "\n",
              "    .dataframe thead th {\n",
              "        text-align: right;\n",
              "    }\n",
              "</style>\n",
              "<table border=\"1\" class=\"dataframe\">\n",
              "  <thead>\n",
              "    <tr style=\"text-align: right;\">\n",
              "      <th></th>\n",
              "      <th>lpep_pickup_date</th>\n",
              "      <th>vendor_id</th>\n",
              "      <th>count</th>\n",
              "    </tr>\n",
              "  </thead>\n",
              "  <tbody>\n",
              "    <tr>\n",
              "      <th>0</th>\n",
              "      <td>2009-01-01</td>\n",
              "      <td>2</td>\n",
              "      <td>2</td>\n",
              "    </tr>\n",
              "    <tr>\n",
              "      <th>1</th>\n",
              "      <td>2020-12-31</td>\n",
              "      <td>2</td>\n",
              "      <td>1</td>\n",
              "    </tr>\n",
              "  </tbody>\n",
              "</table>\n",
              "</div>\n",
              "      <button class=\"colab-df-convert\" onclick=\"convertToInteractive('df-5b51ac50-7abb-490d-b251-73ecb4943a8a')\"\n",
              "              title=\"Convert this dataframe to an interactive table.\"\n",
              "              style=\"display:none;\">\n",
              "        \n",
              "  <svg xmlns=\"http://www.w3.org/2000/svg\" height=\"24px\"viewBox=\"0 0 24 24\"\n",
              "       width=\"24px\">\n",
              "    <path d=\"M0 0h24v24H0V0z\" fill=\"none\"/>\n",
              "    <path d=\"M18.56 5.44l.94 2.06.94-2.06 2.06-.94-2.06-.94-.94-2.06-.94 2.06-2.06.94zm-11 1L8.5 8.5l.94-2.06 2.06-.94-2.06-.94L8.5 2.5l-.94 2.06-2.06.94zm10 10l.94 2.06.94-2.06 2.06-.94-2.06-.94-.94-2.06-.94 2.06-2.06.94z\"/><path d=\"M17.41 7.96l-1.37-1.37c-.4-.4-.92-.59-1.43-.59-.52 0-1.04.2-1.43.59L10.3 9.45l-7.72 7.72c-.78.78-.78 2.05 0 2.83L4 21.41c.39.39.9.59 1.41.59.51 0 1.02-.2 1.41-.59l7.78-7.78 2.81-2.81c.8-.78.8-2.07 0-2.86zM5.41 20L4 18.59l7.72-7.72 1.47 1.35L5.41 20z\"/>\n",
              "  </svg>\n",
              "      </button>\n",
              "      \n",
              "  <style>\n",
              "    .colab-df-container {\n",
              "      display:flex;\n",
              "      flex-wrap:wrap;\n",
              "      gap: 12px;\n",
              "    }\n",
              "\n",
              "    .colab-df-convert {\n",
              "      background-color: #E8F0FE;\n",
              "      border: none;\n",
              "      border-radius: 50%;\n",
              "      cursor: pointer;\n",
              "      display: none;\n",
              "      fill: #1967D2;\n",
              "      height: 32px;\n",
              "      padding: 0 0 0 0;\n",
              "      width: 32px;\n",
              "    }\n",
              "\n",
              "    .colab-df-convert:hover {\n",
              "      background-color: #E2EBFA;\n",
              "      box-shadow: 0px 1px 2px rgba(60, 64, 67, 0.3), 0px 1px 3px 1px rgba(60, 64, 67, 0.15);\n",
              "      fill: #174EA6;\n",
              "    }\n",
              "\n",
              "    [theme=dark] .colab-df-convert {\n",
              "      background-color: #3B4455;\n",
              "      fill: #D2E3FC;\n",
              "    }\n",
              "\n",
              "    [theme=dark] .colab-df-convert:hover {\n",
              "      background-color: #434B5C;\n",
              "      box-shadow: 0px 1px 3px 1px rgba(0, 0, 0, 0.15);\n",
              "      filter: drop-shadow(0px 1px 2px rgba(0, 0, 0, 0.3));\n",
              "      fill: #FFFFFF;\n",
              "    }\n",
              "  </style>\n",
              "\n",
              "      <script>\n",
              "        const buttonEl =\n",
              "          document.querySelector('#df-5b51ac50-7abb-490d-b251-73ecb4943a8a button.colab-df-convert');\n",
              "        buttonEl.style.display =\n",
              "          google.colab.kernel.accessAllowed ? 'block' : 'none';\n",
              "\n",
              "        async function convertToInteractive(key) {\n",
              "          const element = document.querySelector('#df-5b51ac50-7abb-490d-b251-73ecb4943a8a');\n",
              "          const dataTable =\n",
              "            await google.colab.kernel.invokeFunction('convertToInteractive',\n",
              "                                                     [key], {});\n",
              "          if (!dataTable) return;\n",
              "\n",
              "          const docLinkHtml = 'Like what you see? Visit the ' +\n",
              "            '<a target=\"_blank\" href=https://colab.research.google.com/notebooks/data_table.ipynb>data table notebook</a>'\n",
              "            + ' to learn more about interactive tables.';\n",
              "          element.innerHTML = '';\n",
              "          dataTable['output_type'] = 'display_data';\n",
              "          await google.colab.output.renderOutput(dataTable, element);\n",
              "          const docLink = document.createElement('div');\n",
              "          docLink.innerHTML = docLinkHtml;\n",
              "          element.appendChild(docLink);\n",
              "        }\n",
              "      </script>\n",
              "    </div>\n",
              "  </div>\n",
              "  "
            ]
          },
          "metadata": {},
          "execution_count": 53
        }
      ]
    },
    {
      "cell_type": "markdown",
      "source": [
        "### Drop Outlier(s)"
      ],
      "metadata": {
        "id": "MFKUFayM-GNf"
      }
    },
    {
      "cell_type": "code",
      "source": [
        "pickups_by_date[pickups_by_date['lpep_pickup_date'] == pd.Timestamp(2009, 1, 1)]\n",
        "#pickups_by_date[pickups_by_date['lpep_pickup_date'] == pd.Timestamp(2020, 12, 31)]"
      ],
      "metadata": {
        "id": "vSey9r-A-J99",
        "colab": {
          "base_uri": "https://localhost:8080/",
          "height": 136
        },
        "outputId": "f6ceee47-8651-4f13-80e0-3cd990b051a4"
      },
      "execution_count": 54,
      "outputs": [
        {
          "output_type": "stream",
          "name": "stderr",
          "text": [
            "/usr/local/lib/python3.7/dist-packages/pandas/core/ops/array_ops.py:73: FutureWarning: Comparison of Timestamp with datetime.date is deprecated in order to match the standard library behavior.  In a future version these will be considered non-comparable.Use 'ts == pd.Timestamp(date)' or 'ts.date() == date' instead.\n",
            "  result = libops.scalar_compare(x.ravel(), y, op)\n"
          ]
        },
        {
          "output_type": "execute_result",
          "data": {
            "text/plain": [
              "  lpep_pickup_date  vendor_id  count\n",
              "0       2009-01-01          2      2"
            ],
            "text/html": [
              "\n",
              "  <div id=\"df-f44f0bd2-def4-48bb-8021-f3daeab8a777\">\n",
              "    <div class=\"colab-df-container\">\n",
              "      <div>\n",
              "<style scoped>\n",
              "    .dataframe tbody tr th:only-of-type {\n",
              "        vertical-align: middle;\n",
              "    }\n",
              "\n",
              "    .dataframe tbody tr th {\n",
              "        vertical-align: top;\n",
              "    }\n",
              "\n",
              "    .dataframe thead th {\n",
              "        text-align: right;\n",
              "    }\n",
              "</style>\n",
              "<table border=\"1\" class=\"dataframe\">\n",
              "  <thead>\n",
              "    <tr style=\"text-align: right;\">\n",
              "      <th></th>\n",
              "      <th>lpep_pickup_date</th>\n",
              "      <th>vendor_id</th>\n",
              "      <th>count</th>\n",
              "    </tr>\n",
              "  </thead>\n",
              "  <tbody>\n",
              "    <tr>\n",
              "      <th>0</th>\n",
              "      <td>2009-01-01</td>\n",
              "      <td>2</td>\n",
              "      <td>2</td>\n",
              "    </tr>\n",
              "  </tbody>\n",
              "</table>\n",
              "</div>\n",
              "      <button class=\"colab-df-convert\" onclick=\"convertToInteractive('df-f44f0bd2-def4-48bb-8021-f3daeab8a777')\"\n",
              "              title=\"Convert this dataframe to an interactive table.\"\n",
              "              style=\"display:none;\">\n",
              "        \n",
              "  <svg xmlns=\"http://www.w3.org/2000/svg\" height=\"24px\"viewBox=\"0 0 24 24\"\n",
              "       width=\"24px\">\n",
              "    <path d=\"M0 0h24v24H0V0z\" fill=\"none\"/>\n",
              "    <path d=\"M18.56 5.44l.94 2.06.94-2.06 2.06-.94-2.06-.94-.94-2.06-.94 2.06-2.06.94zm-11 1L8.5 8.5l.94-2.06 2.06-.94-2.06-.94L8.5 2.5l-.94 2.06-2.06.94zm10 10l.94 2.06.94-2.06 2.06-.94-2.06-.94-.94-2.06-.94 2.06-2.06.94z\"/><path d=\"M17.41 7.96l-1.37-1.37c-.4-.4-.92-.59-1.43-.59-.52 0-1.04.2-1.43.59L10.3 9.45l-7.72 7.72c-.78.78-.78 2.05 0 2.83L4 21.41c.39.39.9.59 1.41.59.51 0 1.02-.2 1.41-.59l7.78-7.78 2.81-2.81c.8-.78.8-2.07 0-2.86zM5.41 20L4 18.59l7.72-7.72 1.47 1.35L5.41 20z\"/>\n",
              "  </svg>\n",
              "      </button>\n",
              "      \n",
              "  <style>\n",
              "    .colab-df-container {\n",
              "      display:flex;\n",
              "      flex-wrap:wrap;\n",
              "      gap: 12px;\n",
              "    }\n",
              "\n",
              "    .colab-df-convert {\n",
              "      background-color: #E8F0FE;\n",
              "      border: none;\n",
              "      border-radius: 50%;\n",
              "      cursor: pointer;\n",
              "      display: none;\n",
              "      fill: #1967D2;\n",
              "      height: 32px;\n",
              "      padding: 0 0 0 0;\n",
              "      width: 32px;\n",
              "    }\n",
              "\n",
              "    .colab-df-convert:hover {\n",
              "      background-color: #E2EBFA;\n",
              "      box-shadow: 0px 1px 2px rgba(60, 64, 67, 0.3), 0px 1px 3px 1px rgba(60, 64, 67, 0.15);\n",
              "      fill: #174EA6;\n",
              "    }\n",
              "\n",
              "    [theme=dark] .colab-df-convert {\n",
              "      background-color: #3B4455;\n",
              "      fill: #D2E3FC;\n",
              "    }\n",
              "\n",
              "    [theme=dark] .colab-df-convert:hover {\n",
              "      background-color: #434B5C;\n",
              "      box-shadow: 0px 1px 3px 1px rgba(0, 0, 0, 0.15);\n",
              "      filter: drop-shadow(0px 1px 2px rgba(0, 0, 0, 0.3));\n",
              "      fill: #FFFFFF;\n",
              "    }\n",
              "  </style>\n",
              "\n",
              "      <script>\n",
              "        const buttonEl =\n",
              "          document.querySelector('#df-f44f0bd2-def4-48bb-8021-f3daeab8a777 button.colab-df-convert');\n",
              "        buttonEl.style.display =\n",
              "          google.colab.kernel.accessAllowed ? 'block' : 'none';\n",
              "\n",
              "        async function convertToInteractive(key) {\n",
              "          const element = document.querySelector('#df-f44f0bd2-def4-48bb-8021-f3daeab8a777');\n",
              "          const dataTable =\n",
              "            await google.colab.kernel.invokeFunction('convertToInteractive',\n",
              "                                                     [key], {});\n",
              "          if (!dataTable) return;\n",
              "\n",
              "          const docLinkHtml = 'Like what you see? Visit the ' +\n",
              "            '<a target=\"_blank\" href=https://colab.research.google.com/notebooks/data_table.ipynb>data table notebook</a>'\n",
              "            + ' to learn more about interactive tables.';\n",
              "          element.innerHTML = '';\n",
              "          dataTable['output_type'] = 'display_data';\n",
              "          await google.colab.output.renderOutput(dataTable, element);\n",
              "          const docLink = document.createElement('div');\n",
              "          docLink.innerHTML = docLinkHtml;\n",
              "          element.appendChild(docLink);\n",
              "        }\n",
              "      </script>\n",
              "    </div>\n",
              "  </div>\n",
              "  "
            ]
          },
          "metadata": {},
          "execution_count": 54
        }
      ]
    },
    {
      "cell_type": "code",
      "source": [
        "pickups_by_date = \\\n",
        "    pickups_by_date[\n",
        "      pd.DatetimeIndex(pickups_by_date['lpep_pickup_date']).year == 2021 ]"
      ],
      "metadata": {
        "id": "vC8jWfW9_SUe"
      },
      "execution_count": 55,
      "outputs": []
    },
    {
      "cell_type": "code",
      "source": [
        "pickups_by_date.to_csv(\"pickup_counts_by_date.csv\", index=False)"
      ],
      "metadata": {
        "id": "jIyVU8W9yPxP"
      },
      "execution_count": 56,
      "outputs": []
    },
    {
      "cell_type": "markdown",
      "source": [
        "### Setup the http Server using python\n",
        "\n"
      ],
      "metadata": {
        "id": "TDYiLQseZ7dD"
      }
    },
    {
      "cell_type": "code",
      "execution_count": 57,
      "metadata": {
        "id": "0pjoqvF8jpAF"
      },
      "outputs": [],
      "source": [
        "from IPython.core.display import HTML\n",
        "from string import Template\n",
        "import json, random"
      ]
    },
    {
      "cell_type": "code",
      "execution_count": 58,
      "metadata": {
        "id": "VV2J1ReSTDZ2"
      },
      "outputs": [],
      "source": [
        "from IPython.core.display import HTML\n",
        "from string import Template\n",
        "import json, random\n",
        "\n",
        "# local server\n",
        "port = 8888\n",
        "get_ipython().system_raw('python3 -m http.server ' + str(port) + ' &') "
      ]
    },
    {
      "cell_type": "code",
      "execution_count": 59,
      "metadata": {
        "id": "5q5EVqd_kWHt"
      },
      "outputs": [],
      "source": [
        "# Create template\n",
        "html_page = \"\"\"\n",
        "  <link rel=\"stylesheet\" href=\"https://localhost:$port/linecharts.css\"/>\n",
        "  <script src='https://d3js.org/d3.v7.min.js'></script>\n",
        "  <script src=\"https://localhost:$port/linecharts.js\"/>\n",
        "\"\"\"\n",
        "\n",
        "html_page = html_page.replace(\"$port\", str(port)).strip()"
      ]
    },
    {
      "cell_type": "code",
      "execution_count": 60,
      "metadata": {
        "id": "0DYxd1W4_EMS",
        "colab": {
          "base_uri": "https://localhost:8080/"
        },
        "outputId": "9fce0ed9-fb4d-4d51-f999-f27bdac0f51c"
      },
      "outputs": [
        {
          "output_type": "stream",
          "name": "stdout",
          "text": [
            "Overwriting linecharts.css\n"
          ]
        }
      ],
      "source": [
        "%%writefile linecharts.css\n",
        "path.line {\n",
        "  fill: none;\n",
        "  stroke-width: 2;\n",
        "  color: #00ff00;\n",
        "}\n",
        "\n",
        ".axis text {\n",
        "  font-family: Georgia;\n",
        "  font-size: 9px;\n",
        "  color: #00ff00;\n",
        "}\n",
        "\n",
        ".line_label {\n",
        "  font-family: Georgia;\n",
        "  font-size: 10px;\n",
        "  color: #00ff00;\n",
        "}"
      ]
    },
    {
      "cell_type": "code",
      "execution_count": 61,
      "metadata": {
        "id": "CiTEpLEjlnbS",
        "colab": {
          "base_uri": "https://localhost:8080/"
        },
        "outputId": "62874db3-e4e5-4078-8c7b-14338e1516d6"
      },
      "outputs": [
        {
          "output_type": "stream",
          "name": "stdout",
          "text": [
            "Overwriting linecharts.js\n"
          ]
        }
      ],
      "source": [
        "%%writefile linecharts.js\n",
        "timeConv = d3.timeParse(\"%Y-%m-%d\");\n",
        "vendor_data_slices = { 1 : [], 2 : []}\n",
        "\n",
        "csv_data = d3.csv(\"https://localhost:8888/pickup_counts_by_date.csv\", function(row) { \n",
        "  row['lpep_pickup_date'] = timeConv(row['lpep_pickup_date'])\n",
        "  row['count'] = parseInt(row['count'])\n",
        "\n",
        "  if(row['vendor_id'] == 1) {\n",
        "      vendor_data_slices[1].push(row);\n",
        "  }\n",
        "  else {\n",
        "      vendor_data_slices[2].push(row);\n",
        "  }\n",
        "  return row;\n",
        "})\n",
        "csv_data.then(function(data) {\n",
        "\n",
        "    console.log(data);\n",
        "    console.log(vendor_data_slices);\n",
        " \n",
        "});"
      ]
    },
    {
      "cell_type": "code",
      "source": [
        "display(HTML(html_page))"
      ],
      "metadata": {
        "id": "9KwGnXx81KJN",
        "colab": {
          "resources": {
            "http://localhost:8888/linecharts.css": {
              "data": "cGF0aC5saW5lIHsKICBmaWxsOiBub25lOwogIHN0cm9rZS13aWR0aDogMjsKICBjb2xvcjogIzAwZmYwMDsKfQoKLmF4aXMgdGV4dCB7CiAgZm9udC1mYW1pbHk6IEdlb3JnaWE7CiAgZm9udC1zaXplOiA5cHg7CiAgY29sb3I6ICMwMGZmMDA7Cn0KCi5saW5lX2xhYmVsIHsKICBmb250LWZhbWlseTogR2VvcmdpYTsKICBmb250LXNpemU6IDEwcHg7CiAgY29sb3I6ICMwMGZmMDA7Cn0K",
              "ok": true,
              "headers": [
                [
                  "content-type",
                  "text/css"
                ]
              ],
              "status": 200,
              "status_text": ""
            },
            "http://localhost:8888/linecharts.js": {
              "data": "dGltZUNvbnYgPSBkMy50aW1lUGFyc2UoIiVZLSVtLSVkIik7CnZlbmRvcl9kYXRhX3NsaWNlcyA9IHsgMSA6IFtdLCAyIDogW119Cgpjc3ZfZGF0YSA9IGQzLmNzdigiaHR0cHM6Ly9sb2NhbGhvc3Q6ODg4OC9waWNrdXBfY291bnRzX2J5X2RhdGUuY3N2IiwgZnVuY3Rpb24ocm93KSB7IAogIHJvd1snbHBlcF9waWNrdXBfZGF0ZSddID0gdGltZUNvbnYocm93WydscGVwX3BpY2t1cF9kYXRlJ10pCiAgcm93Wydjb3VudCddID0gcGFyc2VJbnQocm93Wydjb3VudCddKQoKICBpZihyb3dbJ3ZlbmRvcl9pZCddID09IDEpIHsKICAgICAgdmVuZG9yX2RhdGFfc2xpY2VzWzFdLnB1c2gocm93KTsKICB9CiAgZWxzZSB7CiAgICAgIHZlbmRvcl9kYXRhX3NsaWNlc1syXS5wdXNoKHJvdyk7CiAgfQogIHJldHVybiByb3c7Cn0pCmNzdl9kYXRhLnRoZW4oZnVuY3Rpb24oZGF0YSkgewoKICAgIGNvbnNvbGUubG9nKGRhdGEpOwogICAgY29uc29sZS5sb2codmVuZG9yX2RhdGFfc2xpY2VzKTsKIAp9KTsK",
              "ok": true,
              "headers": [
                [
                  "content-type",
                  "application/javascript"
                ]
              ],
              "status": 200,
              "status_text": ""
            },
            "http://localhost:8888/pickup_counts_by_date.csv": {
              "data": "bHBlcF9waWNrdXBfZGF0ZSx2ZW5kb3JfaWQsY291bnQKMjAyMS0wMS0wMSwxLDk2CjIwMjEtMDEtMDEsMiw5MzUKMjAyMS0wMS0wMiwxLDE3NAoyMDIxLTAxLTAyLDIsMTczMAoyMDIxLTAxLTAzLDEsMTE0CjIwMjEtMDEtMDMsMiwxMjA2CjIwMjEtMDEtMDQsMSwyMzYKMjAyMS0wMS0wNCwyLDI2NzIKMjAyMS0wMS0wNSwxLDI2NAoyMDIxLTAxLTA1LDIsMjczOAoyMDIxLTAxLTA2LDEsMjYwCjIwMjEtMDEtMDYsMiwyODMxCjIwMjEtMDEtMDcsMSwyNDQKMjAyMS0wMS0wNywyLDI3NDUKMjAyMS0wMS0wOCwxLDI4NAoyMDIxLTAxLTA4LDIsMjYyNwoyMDIxLTAxLTA5LDEsMjE5CjIwMjEtMDEtMDksMiwxNzU3CjIwMjEtMDEtMTAsMSwxNzkKMjAyMS0wMS0xMCwyLDEyNjIKMjAyMS0wMS0xMSwxLDMwMAoyMDIxLTAxLTExLDIsMjczNAoyMDIxLTAxLTEyLDEsMjk3CjIwMjEtMDEtMTIsMiwyNzMwCjIwMjEtMDEtMTMsMSwzMTAKMjAyMS0wMS0xMywyLDI4MzMKMjAyMS0wMS0xNCwxLDMwMQoyMDIxLTAxLTE0LDIsMjgzOQoyMDIxLTAxLTE1LDEsMjY4CjIwMjEtMDEtMTUsMiwyNjc4CjIwMjEtMDEtMTYsMSwyMTEKMjAyMS0wMS0xNiwyLDE3MDUKMjAyMS0wMS0xNywxLDE1NAoyMDIxLTAxLTE3LDIsMTI4OQoyMDIxLTAxLTE4LDEsMTg4CjIwMjEtMDEtMTgsMiwxNzYzCjIwMjEtMDEtMTksMSwyNzQKMjAyMS0wMS0xOSwyLDI4MjQKMjAyMS0wMS0yMCwxLDI1OAoyMDIxLTAxLTIwLDIsMjY5NwoyMDIxLTAxLTIxLDEsMjY4CjIwMjEtMDEtMjEsMiwyNzMwCjIwMjEtMDEtMjIsMSwyOTMKMjAyMS0wMS0yMiwyLDI3MjMKMjAyMS0wMS0yMywxLDIxMwoyMDIxLTAxLTIzLDIsMTczNQoyMDIxLTAxLTI0LDEsMTY1CjIwMjEtMDEtMjQsMiwxMjI5CjIwMjEtMDEtMjUsMSwyNTcKMjAyMS0wMS0yNSwyLDI2MDYKMjAyMS0wMS0yNiwxLDI3MAoyMDIxLTAxLTI2LDIsMjQyNQoyMDIxLTAxLTI3LDEsMjYzCjIwMjEtMDEtMjcsMiwyNzU3CjIwMjEtMDEtMjgsMSwyNjcKMjAyMS0wMS0yOCwyLDI4MTkKMjAyMS0wMS0yOSwxLDI3NgoyMDIxLTAxLTI5LDIsMjc5NAoyMDIxLTAxLTMwLDEsMTg0CjIwMjEtMDEtMzAsMiwxNjAyCjIwMjEtMDEtMzEsMSwxNjAKMjAyMS0wMS0zMSwyLDEyNTMK",
              "ok": true,
              "headers": [
                [
                  "content-type",
                  "text/csv"
                ]
              ],
              "status": 200,
              "status_text": ""
            }
          },
          "base_uri": "https://localhost:8080/",
          "height": 17
        },
        "outputId": "d613640e-e1eb-4ff8-ba3c-be80b47be483"
      },
      "execution_count": 62,
      "outputs": [
        {
          "output_type": "display_data",
          "data": {
            "text/plain": [
              "<IPython.core.display.HTML object>"
            ],
            "text/html": [
              "<link rel=\"stylesheet\" href=\"https://localhost:8888/linecharts.css\"/>\n",
              "  <script src='https://d3js.org/d3.v7.min.js'></script>\n",
              "  <script src=\"https://localhost:8888/linecharts.js\"/>"
            ]
          },
          "metadata": {}
        }
      ]
    },
    {
      "cell_type": "code",
      "source": [
        "!sed -i '$ d' linecharts.js"
      ],
      "metadata": {
        "id": "PXAHis_ezZem"
      },
      "execution_count": 63,
      "outputs": []
    },
    {
      "cell_type": "code",
      "source": [
        "%%writefile -a linecharts.js\n",
        "\n",
        "    width = 1200; height = 600; margin = 20; padding = 140;\n",
        "\n",
        "    var svg = d3.select(\"body\")\n",
        "                .append(\"svg\")\n",
        "                .attr(\"id\", \"svg\")\n",
        "                .attr(\"width\", width)\n",
        "                .attr(\"height\", height);\n",
        "\n",
        "    svg.text(\"NY Taxi Data - Simple Line Charts with D3\").attr(\"id\", \"title\")\n",
        "\n",
        "    plot = svg.append(\"g\").attr(\"id\", \"plot\")\n",
        "\n",
        "});"
      ],
      "metadata": {
        "id": "CRYbUAv6zdw8",
        "colab": {
          "base_uri": "https://localhost:8080/"
        },
        "outputId": "1641c637-3994-47e2-fe2d-4b45755dffb2"
      },
      "execution_count": 64,
      "outputs": [
        {
          "output_type": "stream",
          "name": "stdout",
          "text": [
            "Appending to linecharts.js\n"
          ]
        }
      ]
    },
    {
      "cell_type": "code",
      "source": [
        "display(HTML(html_page))"
      ],
      "metadata": {
        "id": "3pBhPUTr1MqN",
        "colab": {
          "resources": {
            "http://localhost:8888/linecharts.css": {
              "data": "cGF0aC5saW5lIHsKICBmaWxsOiBub25lOwogIHN0cm9rZS13aWR0aDogMjsKICBjb2xvcjogIzAwZmYwMDsKfQoKLmF4aXMgdGV4dCB7CiAgZm9udC1mYW1pbHk6IEdlb3JnaWE7CiAgZm9udC1zaXplOiA5cHg7CiAgY29sb3I6ICMwMGZmMDA7Cn0KCi5saW5lX2xhYmVsIHsKICBmb250LWZhbWlseTogR2VvcmdpYTsKICBmb250LXNpemU6IDEwcHg7CiAgY29sb3I6ICMwMGZmMDA7Cn0K",
              "ok": true,
              "headers": [
                [
                  "content-type",
                  "text/css"
                ]
              ],
              "status": 200,
              "status_text": ""
            },
            "http://localhost:8888/linecharts.js": {
              "data": "dGltZUNvbnYgPSBkMy50aW1lUGFyc2UoIiVZLSVtLSVkIik7CnZlbmRvcl9kYXRhX3NsaWNlcyA9IHsgMSA6IFtdLCAyIDogW119Cgpjc3ZfZGF0YSA9IGQzLmNzdigiaHR0cHM6Ly9sb2NhbGhvc3Q6ODg4OC9waWNrdXBfY291bnRzX2J5X2RhdGUuY3N2IiwgZnVuY3Rpb24ocm93KSB7IAogIHJvd1snbHBlcF9waWNrdXBfZGF0ZSddID0gdGltZUNvbnYocm93WydscGVwX3BpY2t1cF9kYXRlJ10pCiAgcm93Wydjb3VudCddID0gcGFyc2VJbnQocm93Wydjb3VudCddKQoKICBpZihyb3dbJ3ZlbmRvcl9pZCddID09IDEpIHsKICAgICAgdmVuZG9yX2RhdGFfc2xpY2VzWzFdLnB1c2gocm93KTsKICB9CiAgZWxzZSB7CiAgICAgIHZlbmRvcl9kYXRhX3NsaWNlc1syXS5wdXNoKHJvdyk7CiAgfQogIHJldHVybiByb3c7Cn0pCmNzdl9kYXRhLnRoZW4oZnVuY3Rpb24oZGF0YSkgewoKICAgIGNvbnNvbGUubG9nKGRhdGEpOwogICAgY29uc29sZS5sb2codmVuZG9yX2RhdGFfc2xpY2VzKTsKIAoKICAgIHdpZHRoID0gMTIwMDsgaGVpZ2h0ID0gNjAwOyBtYXJnaW4gPSAyMDsgcGFkZGluZyA9IDE0MDsKCiAgICB2YXIgc3ZnID0gZDMuc2VsZWN0KCJib2R5IikKICAgICAgICAgICAgICAgIC5hcHBlbmQoInN2ZyIpCiAgICAgICAgICAgICAgICAuYXR0cigiaWQiLCAic3ZnIikKICAgICAgICAgICAgICAgIC5hdHRyKCJ3aWR0aCIsIHdpZHRoKQogICAgICAgICAgICAgICAgLmF0dHIoImhlaWdodCIsIGhlaWdodCk7CgogICAgc3ZnLnRleHQoIk5ZIFRheGkgRGF0YSAtIFNpbXBsZSBMaW5lIENoYXJ0cyB3aXRoIEQzIikuYXR0cigiaWQiLCAidGl0bGUiKQoKICAgIHBsb3QgPSBzdmcuYXBwZW5kKCJnIikuYXR0cigiaWQiLCAicGxvdCIpCgp9KTsK",
              "ok": true,
              "headers": [
                [
                  "content-type",
                  "application/javascript"
                ]
              ],
              "status": 200,
              "status_text": ""
            },
            "http://localhost:8888/pickup_counts_by_date.csv": {
              "data": "bHBlcF9waWNrdXBfZGF0ZSx2ZW5kb3JfaWQsY291bnQKMjAyMS0wMS0wMSwxLDk2CjIwMjEtMDEtMDEsMiw5MzUKMjAyMS0wMS0wMiwxLDE3NAoyMDIxLTAxLTAyLDIsMTczMAoyMDIxLTAxLTAzLDEsMTE0CjIwMjEtMDEtMDMsMiwxMjA2CjIwMjEtMDEtMDQsMSwyMzYKMjAyMS0wMS0wNCwyLDI2NzIKMjAyMS0wMS0wNSwxLDI2NAoyMDIxLTAxLTA1LDIsMjczOAoyMDIxLTAxLTA2LDEsMjYwCjIwMjEtMDEtMDYsMiwyODMxCjIwMjEtMDEtMDcsMSwyNDQKMjAyMS0wMS0wNywyLDI3NDUKMjAyMS0wMS0wOCwxLDI4NAoyMDIxLTAxLTA4LDIsMjYyNwoyMDIxLTAxLTA5LDEsMjE5CjIwMjEtMDEtMDksMiwxNzU3CjIwMjEtMDEtMTAsMSwxNzkKMjAyMS0wMS0xMCwyLDEyNjIKMjAyMS0wMS0xMSwxLDMwMAoyMDIxLTAxLTExLDIsMjczNAoyMDIxLTAxLTEyLDEsMjk3CjIwMjEtMDEtMTIsMiwyNzMwCjIwMjEtMDEtMTMsMSwzMTAKMjAyMS0wMS0xMywyLDI4MzMKMjAyMS0wMS0xNCwxLDMwMQoyMDIxLTAxLTE0LDIsMjgzOQoyMDIxLTAxLTE1LDEsMjY4CjIwMjEtMDEtMTUsMiwyNjc4CjIwMjEtMDEtMTYsMSwyMTEKMjAyMS0wMS0xNiwyLDE3MDUKMjAyMS0wMS0xNywxLDE1NAoyMDIxLTAxLTE3LDIsMTI4OQoyMDIxLTAxLTE4LDEsMTg4CjIwMjEtMDEtMTgsMiwxNzYzCjIwMjEtMDEtMTksMSwyNzQKMjAyMS0wMS0xOSwyLDI4MjQKMjAyMS0wMS0yMCwxLDI1OAoyMDIxLTAxLTIwLDIsMjY5NwoyMDIxLTAxLTIxLDEsMjY4CjIwMjEtMDEtMjEsMiwyNzMwCjIwMjEtMDEtMjIsMSwyOTMKMjAyMS0wMS0yMiwyLDI3MjMKMjAyMS0wMS0yMywxLDIxMwoyMDIxLTAxLTIzLDIsMTczNQoyMDIxLTAxLTI0LDEsMTY1CjIwMjEtMDEtMjQsMiwxMjI5CjIwMjEtMDEtMjUsMSwyNTcKMjAyMS0wMS0yNSwyLDI2MDYKMjAyMS0wMS0yNiwxLDI3MAoyMDIxLTAxLTI2LDIsMjQyNQoyMDIxLTAxLTI3LDEsMjYzCjIwMjEtMDEtMjcsMiwyNzU3CjIwMjEtMDEtMjgsMSwyNjcKMjAyMS0wMS0yOCwyLDI4MTkKMjAyMS0wMS0yOSwxLDI3NgoyMDIxLTAxLTI5LDIsMjc5NAoyMDIxLTAxLTMwLDEsMTg0CjIwMjEtMDEtMzAsMiwxNjAyCjIwMjEtMDEtMzEsMSwxNjAKMjAyMS0wMS0zMSwyLDEyNTMK",
              "ok": true,
              "headers": [
                [
                  "content-type",
                  "text/csv"
                ]
              ],
              "status": 200,
              "status_text": ""
            }
          },
          "base_uri": "https://localhost:8080/",
          "height": 641
        },
        "outputId": "623ebe73-3ceb-423a-a854-279eb7e0c64b"
      },
      "execution_count": 65,
      "outputs": [
        {
          "output_type": "display_data",
          "data": {
            "text/plain": [
              "<IPython.core.display.HTML object>"
            ],
            "text/html": [
              "<link rel=\"stylesheet\" href=\"https://localhost:8888/linecharts.css\"/>\n",
              "  <script src='https://d3js.org/d3.v7.min.js'></script>\n",
              "  <script src=\"https://localhost:8888/linecharts.js\"/>"
            ]
          },
          "metadata": {}
        }
      ]
    },
    {
      "cell_type": "code",
      "source": [
        "!sed -i '$ d' linecharts.js"
      ],
      "metadata": {
        "id": "LS7fWwrt02Q2"
      },
      "execution_count": 66,
      "outputs": []
    },
    {
      "cell_type": "code",
      "source": [
        "%%writefile -a linecharts.js\n",
        "\n",
        "    xScale = d3.scaleTime().range([0 + padding, width - padding]);\n",
        "    yScale = d3.scaleLinear().rangeRound([height  - .5 * padding, 0 + .5 * padding]);\n",
        "\n",
        "    xScale.domain(d3.extent(data, function(d){ return d.lpep_pickup_date; }));\n",
        "    yScale.domain([(0), d3.max(data, function(d) { return d.count;}) ]);\n",
        "\n",
        "    yaxis = d3.axisLeft().scale(yScale);\n",
        "\n",
        "    // get the number of days for a given month\n",
        "    no_days_in_month = new Date(2021, 1, 0). getDate();\n",
        "\n",
        "    xaxis = d3.axisBottom()\n",
        "                .ticks(no_days_in_month)\n",
        "                .tickFormat(d3.timeFormat('%a %e'))\n",
        "                .scale(xScale);\n",
        "\n",
        "    x_axis = plot.append(\"g\")\n",
        "        .attr(\"id\", \"x-axis\")\n",
        "        .attr(\"class\", \"axis\")\n",
        "        .attr(\"transform\", \"translate(0,\" + (height - .5 * padding) + \")\")\n",
        "        .call(xaxis);\n",
        "\n",
        "    y_axis = plot.append(\"g\")\n",
        "        .attr(\"id\", \"y-axis\")\n",
        "        .attr(\"class\", \"axis\")\n",
        "        .attr(\"transform\", \"translate(\" + padding + \",0)\")\n",
        "        .call(yaxis);\n",
        "});"
      ],
      "metadata": {
        "id": "b8RIH4Um02di",
        "colab": {
          "base_uri": "https://localhost:8080/"
        },
        "outputId": "5fd65f78-4f29-4ac7-ea5e-b2d89aca1942"
      },
      "execution_count": 67,
      "outputs": [
        {
          "output_type": "stream",
          "name": "stdout",
          "text": [
            "Appending to linecharts.js\n"
          ]
        }
      ]
    },
    {
      "cell_type": "code",
      "source": [
        "display(HTML(html_page))"
      ],
      "metadata": {
        "id": "DncNzfiWhuwt",
        "colab": {
          "resources": {
            "http://localhost:8888/linecharts.css": {
              "data": "cGF0aC5saW5lIHsKICBmaWxsOiBub25lOwogIHN0cm9rZS13aWR0aDogMjsKICBjb2xvcjogIzAwZmYwMDsKfQoKLmF4aXMgdGV4dCB7CiAgZm9udC1mYW1pbHk6IEdlb3JnaWE7CiAgZm9udC1zaXplOiA5cHg7CiAgY29sb3I6ICMwMGZmMDA7Cn0KCi5saW5lX2xhYmVsIHsKICBmb250LWZhbWlseTogR2VvcmdpYTsKICBmb250LXNpemU6IDEwcHg7CiAgY29sb3I6ICMwMGZmMDA7Cn0K",
              "ok": true,
              "headers": [
                [
                  "content-type",
                  "text/css"
                ]
              ],
              "status": 200,
              "status_text": ""
            },
            "http://localhost:8888/linecharts.js": {
              "data": "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",
              "ok": true,
              "headers": [
                [
                  "content-type",
                  "application/javascript"
                ]
              ],
              "status": 200,
              "status_text": ""
            },
            "http://localhost:8888/pickup_counts_by_date.csv": {
              "data": "bHBlcF9waWNrdXBfZGF0ZSx2ZW5kb3JfaWQsY291bnQKMjAyMS0wMS0wMSwxLDk2CjIwMjEtMDEtMDEsMiw5MzUKMjAyMS0wMS0wMiwxLDE3NAoyMDIxLTAxLTAyLDIsMTczMAoyMDIxLTAxLTAzLDEsMTE0CjIwMjEtMDEtMDMsMiwxMjA2CjIwMjEtMDEtMDQsMSwyMzYKMjAyMS0wMS0wNCwyLDI2NzIKMjAyMS0wMS0wNSwxLDI2NAoyMDIxLTAxLTA1LDIsMjczOAoyMDIxLTAxLTA2LDEsMjYwCjIwMjEtMDEtMDYsMiwyODMxCjIwMjEtMDEtMDcsMSwyNDQKMjAyMS0wMS0wNywyLDI3NDUKMjAyMS0wMS0wOCwxLDI4NAoyMDIxLTAxLTA4LDIsMjYyNwoyMDIxLTAxLTA5LDEsMjE5CjIwMjEtMDEtMDksMiwxNzU3CjIwMjEtMDEtMTAsMSwxNzkKMjAyMS0wMS0xMCwyLDEyNjIKMjAyMS0wMS0xMSwxLDMwMAoyMDIxLTAxLTExLDIsMjczNAoyMDIxLTAxLTEyLDEsMjk3CjIwMjEtMDEtMTIsMiwyNzMwCjIwMjEtMDEtMTMsMSwzMTAKMjAyMS0wMS0xMywyLDI4MzMKMjAyMS0wMS0xNCwxLDMwMQoyMDIxLTAxLTE0LDIsMjgzOQoyMDIxLTAxLTE1LDEsMjY4CjIwMjEtMDEtMTUsMiwyNjc4CjIwMjEtMDEtMTYsMSwyMTEKMjAyMS0wMS0xNiwyLDE3MDUKMjAyMS0wMS0xNywxLDE1NAoyMDIxLTAxLTE3LDIsMTI4OQoyMDIxLTAxLTE4LDEsMTg4CjIwMjEtMDEtMTgsMiwxNzYzCjIwMjEtMDEtMTksMSwyNzQKMjAyMS0wMS0xOSwyLDI4MjQKMjAyMS0wMS0yMCwxLDI1OAoyMDIxLTAxLTIwLDIsMjY5NwoyMDIxLTAxLTIxLDEsMjY4CjIwMjEtMDEtMjEsMiwyNzMwCjIwMjEtMDEtMjIsMSwyOTMKMjAyMS0wMS0yMiwyLDI3MjMKMjAyMS0wMS0yMywxLDIxMwoyMDIxLTAxLTIzLDIsMTczNQoyMDIxLTAxLTI0LDEsMTY1CjIwMjEtMDEtMjQsMiwxMjI5CjIwMjEtMDEtMjUsMSwyNTcKMjAyMS0wMS0yNSwyLDI2MDYKMjAyMS0wMS0yNiwxLDI3MAoyMDIxLTAxLTI2LDIsMjQyNQoyMDIxLTAxLTI3LDEsMjYzCjIwMjEtMDEtMjcsMiwyNzU3CjIwMjEtMDEtMjgsMSwyNjcKMjAyMS0wMS0yOCwyLDI4MTkKMjAyMS0wMS0yOSwxLDI3NgoyMDIxLTAxLTI5LDIsMjc5NAoyMDIxLTAxLTMwLDEsMTg0CjIwMjEtMDEtMzAsMiwxNjAyCjIwMjEtMDEtMzEsMSwxNjAKMjAyMS0wMS0zMSwyLDEyNTMK",
              "ok": true,
              "headers": [
                [
                  "content-type",
                  "text/csv"
                ]
              ],
              "status": 200,
              "status_text": ""
            }
          },
          "base_uri": "https://localhost:8080/",
          "height": 641
        },
        "outputId": "d73f538f-a818-41ec-9ffb-094326b6c0c6"
      },
      "execution_count": 68,
      "outputs": [
        {
          "output_type": "display_data",
          "data": {
            "text/plain": [
              "<IPython.core.display.HTML object>"
            ],
            "text/html": [
              "<link rel=\"stylesheet\" href=\"https://localhost:8888/linecharts.css\"/>\n",
              "  <script src='https://d3js.org/d3.v7.min.js'></script>\n",
              "  <script src=\"https://localhost:8888/linecharts.js\"/>"
            ]
          },
          "metadata": {}
        }
      ]
    },
    {
      "cell_type": "markdown",
      "source": [
        "## Axis Labels"
      ],
      "metadata": {
        "id": "g6jBBruYif1o"
      }
    },
    {
      "cell_type": "code",
      "source": [
        "!sed -i '$ d' linecharts.js"
      ],
      "metadata": {
        "id": "f2YEJxvMhdBL"
      },
      "execution_count": 69,
      "outputs": []
    },
    {
      "cell_type": "code",
      "source": [
        "%%writefile -a linecharts.js\n",
        "    x_axis.append(\"text\")\n",
        "        .attr(\"x\", .5 * width)\n",
        "        .attr(\"y\", .35 * padding)\n",
        "        .style(\"text-anchor\", \"end\")\n",
        "        .style(\"color\", \"red\")\n",
        "        .text(\"Day of Week & Month\");\n",
        "\n",
        "  y_axis.append(\"text\")\n",
        "        .attr(\"transform\", \"rotate(-90)\")\n",
        "        .attr(\"x\", - .5 * height + .5 * padding)\n",
        "        .attr(\"y\", - .5 * padding)\n",
        "        .style(\"color\", \"red\")\n",
        "        .text(\"Number of pickups by Vendor ID\");\n",
        "});"
      ],
      "metadata": {
        "id": "VyIHUD8VCwix",
        "colab": {
          "base_uri": "https://localhost:8080/"
        },
        "outputId": "fb556efa-ca21-4910-c232-4a494e5f1c91"
      },
      "execution_count": 70,
      "outputs": [
        {
          "output_type": "stream",
          "name": "stdout",
          "text": [
            "Appending to linecharts.js\n"
          ]
        }
      ]
    },
    {
      "cell_type": "code",
      "source": [
        "display(HTML(html_page))"
      ],
      "metadata": {
        "id": "Qc5lSKH0EPjj",
        "colab": {
          "resources": {
            "http://localhost:8888/linecharts.css": {
              "data": "cGF0aC5saW5lIHsKICBmaWxsOiBub25lOwogIHN0cm9rZS13aWR0aDogMjsKICBjb2xvcjogIzAwZmYwMDsKfQoKLmF4aXMgdGV4dCB7CiAgZm9udC1mYW1pbHk6IEdlb3JnaWE7CiAgZm9udC1zaXplOiA5cHg7CiAgY29sb3I6ICMwMGZmMDA7Cn0KCi5saW5lX2xhYmVsIHsKICBmb250LWZhbWlseTogR2VvcmdpYTsKICBmb250LXNpemU6IDEwcHg7CiAgY29sb3I6ICMwMGZmMDA7Cn0K",
              "ok": true,
              "headers": [
                [
                  "content-type",
                  "text/css"
                ]
              ],
              "status": 200,
              "status_text": ""
            },
            "http://localhost:8888/linecharts.js": {
              "data": "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",
              "ok": true,
              "headers": [
                [
                  "content-type",
                  "application/javascript"
                ]
              ],
              "status": 200,
              "status_text": ""
            },
            "http://localhost:8888/pickup_counts_by_date.csv": {
              "data": "bHBlcF9waWNrdXBfZGF0ZSx2ZW5kb3JfaWQsY291bnQKMjAyMS0wMS0wMSwxLDk2CjIwMjEtMDEtMDEsMiw5MzUKMjAyMS0wMS0wMiwxLDE3NAoyMDIxLTAxLTAyLDIsMTczMAoyMDIxLTAxLTAzLDEsMTE0CjIwMjEtMDEtMDMsMiwxMjA2CjIwMjEtMDEtMDQsMSwyMzYKMjAyMS0wMS0wNCwyLDI2NzIKMjAyMS0wMS0wNSwxLDI2NAoyMDIxLTAxLTA1LDIsMjczOAoyMDIxLTAxLTA2LDEsMjYwCjIwMjEtMDEtMDYsMiwyODMxCjIwMjEtMDEtMDcsMSwyNDQKMjAyMS0wMS0wNywyLDI3NDUKMjAyMS0wMS0wOCwxLDI4NAoyMDIxLTAxLTA4LDIsMjYyNwoyMDIxLTAxLTA5LDEsMjE5CjIwMjEtMDEtMDksMiwxNzU3CjIwMjEtMDEtMTAsMSwxNzkKMjAyMS0wMS0xMCwyLDEyNjIKMjAyMS0wMS0xMSwxLDMwMAoyMDIxLTAxLTExLDIsMjczNAoyMDIxLTAxLTEyLDEsMjk3CjIwMjEtMDEtMTIsMiwyNzMwCjIwMjEtMDEtMTMsMSwzMTAKMjAyMS0wMS0xMywyLDI4MzMKMjAyMS0wMS0xNCwxLDMwMQoyMDIxLTAxLTE0LDIsMjgzOQoyMDIxLTAxLTE1LDEsMjY4CjIwMjEtMDEtMTUsMiwyNjc4CjIwMjEtMDEtMTYsMSwyMTEKMjAyMS0wMS0xNiwyLDE3MDUKMjAyMS0wMS0xNywxLDE1NAoyMDIxLTAxLTE3LDIsMTI4OQoyMDIxLTAxLTE4LDEsMTg4CjIwMjEtMDEtMTgsMiwxNzYzCjIwMjEtMDEtMTksMSwyNzQKMjAyMS0wMS0xOSwyLDI4MjQKMjAyMS0wMS0yMCwxLDI1OAoyMDIxLTAxLTIwLDIsMjY5NwoyMDIxLTAxLTIxLDEsMjY4CjIwMjEtMDEtMjEsMiwyNzMwCjIwMjEtMDEtMjIsMSwyOTMKMjAyMS0wMS0yMiwyLDI3MjMKMjAyMS0wMS0yMywxLDIxMwoyMDIxLTAxLTIzLDIsMTczNQoyMDIxLTAxLTI0LDEsMTY1CjIwMjEtMDEtMjQsMiwxMjI5CjIwMjEtMDEtMjUsMSwyNTcKMjAyMS0wMS0yNSwyLDI2MDYKMjAyMS0wMS0yNiwxLDI3MAoyMDIxLTAxLTI2LDIsMjQyNQoyMDIxLTAxLTI3LDEsMjYzCjIwMjEtMDEtMjcsMiwyNzU3CjIwMjEtMDEtMjgsMSwyNjcKMjAyMS0wMS0yOCwyLDI4MTkKMjAyMS0wMS0yOSwxLDI3NgoyMDIxLTAxLTI5LDIsMjc5NAoyMDIxLTAxLTMwLDEsMTg0CjIwMjEtMDEtMzAsMiwxNjAyCjIwMjEtMDEtMzEsMSwxNjAKMjAyMS0wMS0zMSwyLDEyNTMK",
              "ok": true,
              "headers": [
                [
                  "content-type",
                  "text/csv"
                ]
              ],
              "status": 200,
              "status_text": ""
            }
          },
          "base_uri": "https://localhost:8080/",
          "height": 641
        },
        "outputId": "71402494-b47a-4a86-b880-be978195d40c"
      },
      "execution_count": 71,
      "outputs": [
        {
          "output_type": "display_data",
          "data": {
            "text/plain": [
              "<IPython.core.display.HTML object>"
            ],
            "text/html": [
              "<link rel=\"stylesheet\" href=\"https://localhost:8888/linecharts.css\"/>\n",
              "  <script src='https://d3js.org/d3.v7.min.js'></script>\n",
              "  <script src=\"https://localhost:8888/linecharts.js\"/>"
            ]
          },
          "metadata": {}
        }
      ]
    },
    {
      "cell_type": "code",
      "source": [
        "!sed -i '$ d' linecharts.js"
      ],
      "metadata": {
        "id": "HC8Y4OBZCNDz"
      },
      "execution_count": 72,
      "outputs": []
    },
    {
      "cell_type": "code",
      "source": [
        "%%writefile -a linecharts.js\n",
        "\n",
        "   line = d3.line()\n",
        "            .x(function(d) {\n",
        "                return xScale(d.lpep_pickup_date);;\n",
        "            })\n",
        "            .y(function(d) {\n",
        "                return yScale(d.count);\n",
        "            });\n",
        "\n",
        "    lines = plot.append(\"g\").attr(\"id\", \"lines\");\n",
        "\n",
        "    var colorArray = [d3.schemeCategory10, d3.schemeAccent];\n",
        "    var colorScheme = d3.scaleOrdinal(colorArray[0]);\n",
        "\n",
        "    vendor_ids = [1,2]\n",
        "    for (let idx in vendor_ids) {\n",
        "        line_data = vendor_data_slices[vendor_ids[idx]]\n",
        "\n",
        "        path = lines.append(\"path\")\n",
        "        path.datum(line_data)\n",
        "            .attr(\"class\", \"line\")\n",
        "            .attr(\"d\", line ).attr(\"stroke\", colorScheme(idx));\n",
        "\n",
        "        lines.append(\"text\")\n",
        "            .attr(\"class\",\"line_label\")\n",
        "            .datum(function(d) {\n",
        "                return {\n",
        "                    vendor_id: vendor_ids[idx],\n",
        "                    count: line_data[line_data.length - 1].count,\n",
        "                    lpep_pickup_date: line_data[line_data.length - 1].lpep_pickup_date\n",
        "                };})\n",
        "            .attr(\"transform\", function(d) {\n",
        "                    console.log(d);\n",
        "                    return \"translate(\" + (xScale(d.lpep_pickup_date) + 3)  + \",\" + (yScale(d.count) + 5 )+ \")\"; })\n",
        "            .attr(\"x\", 5)\n",
        "            .text(function(d) { return \"Vendor ID: #\" + d.vendor_id; })\n",
        "            .attr(\"fill\", colorScheme(idx));\n",
        "    }\n",
        "});"
      ],
      "metadata": {
        "id": "_6BiQD-chiiJ",
        "colab": {
          "base_uri": "https://localhost:8080/"
        },
        "outputId": "cae0759f-d5a0-4990-dd22-fdb10bd82512"
      },
      "execution_count": 73,
      "outputs": [
        {
          "output_type": "stream",
          "name": "stdout",
          "text": [
            "Appending to linecharts.js\n"
          ]
        }
      ]
    },
    {
      "cell_type": "code",
      "source": [
        "display(HTML(html_page))"
      ],
      "metadata": {
        "id": "nrwRTr7eClRs",
        "colab": {
          "resources": {
            "http://localhost:8888/linecharts.css": {
              "data": "cGF0aC5saW5lIHsKICBmaWxsOiBub25lOwogIHN0cm9rZS13aWR0aDogMjsKICBjb2xvcjogIzAwZmYwMDsKfQoKLmF4aXMgdGV4dCB7CiAgZm9udC1mYW1pbHk6IEdlb3JnaWE7CiAgZm9udC1zaXplOiA5cHg7CiAgY29sb3I6ICMwMGZmMDA7Cn0KCi5saW5lX2xhYmVsIHsKICBmb250LWZhbWlseTogR2VvcmdpYTsKICBmb250LXNpemU6IDEwcHg7CiAgY29sb3I6ICMwMGZmMDA7Cn0K",
              "ok": true,
              "headers": [
                [
                  "content-type",
                  "text/css"
                ]
              ],
              "status": 200,
              "status_text": ""
            },
            "http://localhost:8888/linecharts.js": {
              "data": "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",
              "ok": true,
              "headers": [
                [
                  "content-type",
                  "application/javascript"
                ]
              ],
              "status": 200,
              "status_text": ""
            },
            "http://localhost:8888/pickup_counts_by_date.csv": {
              "data": "bHBlcF9waWNrdXBfZGF0ZSx2ZW5kb3JfaWQsY291bnQKMjAyMS0wMS0wMSwxLDk2CjIwMjEtMDEtMDEsMiw5MzUKMjAyMS0wMS0wMiwxLDE3NAoyMDIxLTAxLTAyLDIsMTczMAoyMDIxLTAxLTAzLDEsMTE0CjIwMjEtMDEtMDMsMiwxMjA2CjIwMjEtMDEtMDQsMSwyMzYKMjAyMS0wMS0wNCwyLDI2NzIKMjAyMS0wMS0wNSwxLDI2NAoyMDIxLTAxLTA1LDIsMjczOAoyMDIxLTAxLTA2LDEsMjYwCjIwMjEtMDEtMDYsMiwyODMxCjIwMjEtMDEtMDcsMSwyNDQKMjAyMS0wMS0wNywyLDI3NDUKMjAyMS0wMS0wOCwxLDI4NAoyMDIxLTAxLTA4LDIsMjYyNwoyMDIxLTAxLTA5LDEsMjE5CjIwMjEtMDEtMDksMiwxNzU3CjIwMjEtMDEtMTAsMSwxNzkKMjAyMS0wMS0xMCwyLDEyNjIKMjAyMS0wMS0xMSwxLDMwMAoyMDIxLTAxLTExLDIsMjczNAoyMDIxLTAxLTEyLDEsMjk3CjIwMjEtMDEtMTIsMiwyNzMwCjIwMjEtMDEtMTMsMSwzMTAKMjAyMS0wMS0xMywyLDI4MzMKMjAyMS0wMS0xNCwxLDMwMQoyMDIxLTAxLTE0LDIsMjgzOQoyMDIxLTAxLTE1LDEsMjY4CjIwMjEtMDEtMTUsMiwyNjc4CjIwMjEtMDEtMTYsMSwyMTEKMjAyMS0wMS0xNiwyLDE3MDUKMjAyMS0wMS0xNywxLDE1NAoyMDIxLTAxLTE3LDIsMTI4OQoyMDIxLTAxLTE4LDEsMTg4CjIwMjEtMDEtMTgsMiwxNzYzCjIwMjEtMDEtMTksMSwyNzQKMjAyMS0wMS0xOSwyLDI4MjQKMjAyMS0wMS0yMCwxLDI1OAoyMDIxLTAxLTIwLDIsMjY5NwoyMDIxLTAxLTIxLDEsMjY4CjIwMjEtMDEtMjEsMiwyNzMwCjIwMjEtMDEtMjIsMSwyOTMKMjAyMS0wMS0yMiwyLDI3MjMKMjAyMS0wMS0yMywxLDIxMwoyMDIxLTAxLTIzLDIsMTczNQoyMDIxLTAxLTI0LDEsMTY1CjIwMjEtMDEtMjQsMiwxMjI5CjIwMjEtMDEtMjUsMSwyNTcKMjAyMS0wMS0yNSwyLDI2MDYKMjAyMS0wMS0yNiwxLDI3MAoyMDIxLTAxLTI2LDIsMjQyNQoyMDIxLTAxLTI3LDEsMjYzCjIwMjEtMDEtMjcsMiwyNzU3CjIwMjEtMDEtMjgsMSwyNjcKMjAyMS0wMS0yOCwyLDI4MTkKMjAyMS0wMS0yOSwxLDI3NgoyMDIxLTAxLTI5LDIsMjc5NAoyMDIxLTAxLTMwLDEsMTg0CjIwMjEtMDEtMzAsMiwxNjAyCjIwMjEtMDEtMzEsMSwxNjAKMjAyMS0wMS0zMSwyLDEyNTMK",
              "ok": true,
              "headers": [
                [
                  "content-type",
                  "text/csv"
                ]
              ],
              "status": 200,
              "status_text": ""
            }
          },
          "base_uri": "https://localhost:8080/",
          "height": 641
        },
        "outputId": "fc387fcc-dfbb-47a1-c718-ab1ae8adeb6e"
      },
      "execution_count": 74,
      "outputs": [
        {
          "output_type": "display_data",
          "data": {
            "text/plain": [
              "<IPython.core.display.HTML object>"
            ],
            "text/html": [
              "<link rel=\"stylesheet\" href=\"https://localhost:8888/linecharts.css\"/>\n",
              "  <script src='https://d3js.org/d3.v7.min.js'></script>\n",
              "  <script src=\"https://localhost:8888/linecharts.js\"/>"
            ]
          },
          "metadata": {}
        }
      ]
    }
  ],
  "metadata": {
    "colab": {
      "collapsed_sections": [],
      "provenance": [],
      "include_colab_link": true
    },
    "kernelspec": {
      "display_name": "Python 3",
      "name": "python3"
    },
    "language_info": {
      "name": "python"
    }
  },
  "nbformat": 4,
  "nbformat_minor": 0
}